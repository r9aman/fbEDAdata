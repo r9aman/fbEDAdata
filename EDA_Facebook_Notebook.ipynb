{
 "cells": [
  {
   "cell_type": "markdown",
   "metadata": {},
   "source": [
    "<img src=\"https://github.com/r9aman/fbEDAdata/blob/master/fb.PNG?raw=true\" alt = \"fb\" style=\"width:228px;height:128px;\" />"
   ]
  },
  {
   "cell_type": "markdown",
   "metadata": {},
   "source": [
    "# Exploratory Data Analysis of Facebook Data"
   ]
  },
  {
   "cell_type": "markdown",
   "metadata": {},
   "source": [
    "## 1. Problem Statement"
   ]
  },
  {
   "cell_type": "markdown",
   "metadata": {},
   "source": [
    "- As a software industry, we have to give insights about the application usage behavior by users and to come up with database solution\n",
    "- We will also detect abnormal user profile present in the dataset and detect the fake account\n",
    "- We will start EDA of the Facebook data of around 99k user around the world"
   ]
  },
  {
   "cell_type": "markdown",
   "metadata": {},
   "source": [
    "## 2. Data Loading and Description"
   ]
  },
  {
   "cell_type": "markdown",
   "metadata": {},
   "source": [
    "- The facebook dataset consists the information about its __Users__ around the world. \n",
    "- Various features of facebook application are present in the dataset like, __Age__, __Gender__, __Tenure__, __Likes__ etc.\n",
    "- The dataset comprises of __99003 observations of 15 columns__. Below is a table showing names of all the columns and their description."
   ]
  },
  {
   "cell_type": "markdown",
   "metadata": {},
   "source": [
    "| Column Name           | Description                                                                  |\n",
    "| --------------------- |:-------------                                                               :| \n",
    "| userid                | User Identity                                                                | \n",
    "| age                   | Age of User                                                                  |  \n",
    "| dob_day               | Birth Day                                                                    | \n",
    "| dob_year              | Birth Year                                                                   |   \n",
    "| dob_month             | Birth Month                                                                  |\n",
    "| gender                | Gender of User                                                               |\n",
    "| tenure                | Number of days since profile creation on facebook                            |\n",
    "| friend_count          | Number of friends a particular user has                                      |\n",
    "| friendship_initiated  | Number of friend request sent                                                |\n",
    "| likes                 | Number of likes of a user given to different users                           |\n",
    "| likes_received        | Number of likes received from different users                                |\n",
    "| mobile_likes          | Number of likes of a user given to different users using facebook mobile app |\n",
    "| mobile_likes_received | Number of likes received from different users using facebook mobile app      |\n",
    "| www_likes             | Number of likes of a user given to different users using facebook website    |\n",
    "| www_likes_received    | Number of likes received from different users using facebook website         |"
   ]
  },
  {
   "cell_type": "markdown",
   "metadata": {},
   "source": [
    "### About Facebook\n",
    "\n",
    "__Facebook__, is an American online social media and social networking service company based in Menlo Park, California. It was founded by Mark Zuckerberg, along with fellow Harvard College students and roommates Eduardo Saverin, Andrew McCollum, Dustin Moskovitz and Chris Hughes.\n",
    "\n",
    "The Facebook service can be accessed from devices with Internet connectivity, such as personal computers, tablets and smartphones. After registering, users can create a customized profile revealing information about themselves. They can post text, photos and multimedia which is shared with any other users that have agreed to be their __\"friend\"__. Users can also use various embedded apps, join common-interest groups, and receive notifications of their friends' activities. Facebook claimed that had more than 2.3 billion monthly active users as of December 2018. However, it faces a big problem of fake accounts. It caught 3 billion fake accounts, but the ones it misses are the real problem. Many critics questioned whether Facebook knows how many actual users it has. Facebook is one of the world's most valuable companies."
   ]
  },
  {
   "cell_type": "markdown",
   "metadata": {},
   "source": [
    "### Importing Packages"
   ]
  },
  {
   "cell_type": "code",
   "execution_count": 2,
   "metadata": {},
   "outputs": [],
   "source": [
    "import numpy as np\n",
    "import pandas as pd\n",
    "import pandas_profiling\n",
    "import matplotlib.pyplot as plt\n",
    "import matplotlib.ticker as ticker\n",
    "import seaborn as sns\n",
    "%matplotlib inline\n",
    "sns.set()\n",
    "sns.set(style=\"whitegrid\")\n",
    "\n",
    "from subprocess import check_output"
   ]
  },
  {
   "cell_type": "markdown",
   "metadata": {},
   "source": [
    "### Importing the Dataset"
   ]
  },
  {
   "cell_type": "code",
   "execution_count": 3,
   "metadata": {},
   "outputs": [],
   "source": [
    "fb_data = pd.read_csv(\"https://raw.githubusercontent.com/insaid2018/Term-1/master/Data/Projects/facebook_data.csv\")"
   ]
  },
  {
   "cell_type": "markdown",
   "metadata": {},
   "source": [
    "## 3. Data Profiling"
   ]
  },
  {
   "cell_type": "markdown",
   "metadata": {},
   "source": [
    "### 3.1 Understanding the Dataset"
   ]
  },
  {
   "cell_type": "code",
   "execution_count": 4,
   "metadata": {},
   "outputs": [
    {
     "data": {
      "text/html": [
       "<div>\n",
       "<style scoped>\n",
       "    .dataframe tbody tr th:only-of-type {\n",
       "        vertical-align: middle;\n",
       "    }\n",
       "\n",
       "    .dataframe tbody tr th {\n",
       "        vertical-align: top;\n",
       "    }\n",
       "\n",
       "    .dataframe thead th {\n",
       "        text-align: right;\n",
       "    }\n",
       "</style>\n",
       "<table border=\"1\" class=\"dataframe\">\n",
       "  <thead>\n",
       "    <tr style=\"text-align: right;\">\n",
       "      <th></th>\n",
       "      <th>userid</th>\n",
       "      <th>age</th>\n",
       "      <th>dob_day</th>\n",
       "      <th>dob_year</th>\n",
       "      <th>dob_month</th>\n",
       "      <th>gender</th>\n",
       "      <th>tenure</th>\n",
       "      <th>friend_count</th>\n",
       "      <th>friendships_initiated</th>\n",
       "      <th>likes</th>\n",
       "      <th>likes_received</th>\n",
       "      <th>mobile_likes</th>\n",
       "      <th>mobile_likes_received</th>\n",
       "      <th>www_likes</th>\n",
       "      <th>www_likes_received</th>\n",
       "    </tr>\n",
       "  </thead>\n",
       "  <tbody>\n",
       "    <tr>\n",
       "      <th>0</th>\n",
       "      <td>2094382</td>\n",
       "      <td>14</td>\n",
       "      <td>19</td>\n",
       "      <td>1999</td>\n",
       "      <td>11</td>\n",
       "      <td>male</td>\n",
       "      <td>266.0</td>\n",
       "      <td>0</td>\n",
       "      <td>0</td>\n",
       "      <td>0</td>\n",
       "      <td>0</td>\n",
       "      <td>0</td>\n",
       "      <td>0</td>\n",
       "      <td>0</td>\n",
       "      <td>0</td>\n",
       "    </tr>\n",
       "    <tr>\n",
       "      <th>1</th>\n",
       "      <td>1192601</td>\n",
       "      <td>14</td>\n",
       "      <td>2</td>\n",
       "      <td>1999</td>\n",
       "      <td>11</td>\n",
       "      <td>female</td>\n",
       "      <td>6.0</td>\n",
       "      <td>0</td>\n",
       "      <td>0</td>\n",
       "      <td>0</td>\n",
       "      <td>0</td>\n",
       "      <td>0</td>\n",
       "      <td>0</td>\n",
       "      <td>0</td>\n",
       "      <td>0</td>\n",
       "    </tr>\n",
       "    <tr>\n",
       "      <th>2</th>\n",
       "      <td>2083884</td>\n",
       "      <td>14</td>\n",
       "      <td>16</td>\n",
       "      <td>1999</td>\n",
       "      <td>11</td>\n",
       "      <td>male</td>\n",
       "      <td>13.0</td>\n",
       "      <td>0</td>\n",
       "      <td>0</td>\n",
       "      <td>0</td>\n",
       "      <td>0</td>\n",
       "      <td>0</td>\n",
       "      <td>0</td>\n",
       "      <td>0</td>\n",
       "      <td>0</td>\n",
       "    </tr>\n",
       "    <tr>\n",
       "      <th>3</th>\n",
       "      <td>1203168</td>\n",
       "      <td>14</td>\n",
       "      <td>25</td>\n",
       "      <td>1999</td>\n",
       "      <td>12</td>\n",
       "      <td>female</td>\n",
       "      <td>93.0</td>\n",
       "      <td>0</td>\n",
       "      <td>0</td>\n",
       "      <td>0</td>\n",
       "      <td>0</td>\n",
       "      <td>0</td>\n",
       "      <td>0</td>\n",
       "      <td>0</td>\n",
       "      <td>0</td>\n",
       "    </tr>\n",
       "    <tr>\n",
       "      <th>4</th>\n",
       "      <td>1733186</td>\n",
       "      <td>14</td>\n",
       "      <td>4</td>\n",
       "      <td>1999</td>\n",
       "      <td>12</td>\n",
       "      <td>male</td>\n",
       "      <td>82.0</td>\n",
       "      <td>0</td>\n",
       "      <td>0</td>\n",
       "      <td>0</td>\n",
       "      <td>0</td>\n",
       "      <td>0</td>\n",
       "      <td>0</td>\n",
       "      <td>0</td>\n",
       "      <td>0</td>\n",
       "    </tr>\n",
       "  </tbody>\n",
       "</table>\n",
       "</div>"
      ],
      "text/plain": [
       "    userid  age  dob_day  dob_year  dob_month  gender  tenure  friend_count  \\\n",
       "0  2094382   14       19      1999         11    male   266.0             0   \n",
       "1  1192601   14        2      1999         11  female     6.0             0   \n",
       "2  2083884   14       16      1999         11    male    13.0             0   \n",
       "3  1203168   14       25      1999         12  female    93.0             0   \n",
       "4  1733186   14        4      1999         12    male    82.0             0   \n",
       "\n",
       "   friendships_initiated  likes  likes_received  mobile_likes  \\\n",
       "0                      0      0               0             0   \n",
       "1                      0      0               0             0   \n",
       "2                      0      0               0             0   \n",
       "3                      0      0               0             0   \n",
       "4                      0      0               0             0   \n",
       "\n",
       "   mobile_likes_received  www_likes  www_likes_received  \n",
       "0                      0          0                   0  \n",
       "1                      0          0                   0  \n",
       "2                      0          0                   0  \n",
       "3                      0          0                   0  \n",
       "4                      0          0                   0  "
      ]
     },
     "execution_count": 4,
     "metadata": {},
     "output_type": "execute_result"
    }
   ],
   "source": [
    "fb_data.head()"
   ]
  },
  {
   "cell_type": "code",
   "execution_count": 5,
   "metadata": {},
   "outputs": [
    {
     "data": {
      "text/html": [
       "<div>\n",
       "<style scoped>\n",
       "    .dataframe tbody tr th:only-of-type {\n",
       "        vertical-align: middle;\n",
       "    }\n",
       "\n",
       "    .dataframe tbody tr th {\n",
       "        vertical-align: top;\n",
       "    }\n",
       "\n",
       "    .dataframe thead th {\n",
       "        text-align: right;\n",
       "    }\n",
       "</style>\n",
       "<table border=\"1\" class=\"dataframe\">\n",
       "  <thead>\n",
       "    <tr style=\"text-align: right;\">\n",
       "      <th></th>\n",
       "      <th>userid</th>\n",
       "      <th>age</th>\n",
       "      <th>dob_day</th>\n",
       "      <th>dob_year</th>\n",
       "      <th>dob_month</th>\n",
       "      <th>gender</th>\n",
       "      <th>tenure</th>\n",
       "      <th>friend_count</th>\n",
       "      <th>friendships_initiated</th>\n",
       "      <th>likes</th>\n",
       "      <th>likes_received</th>\n",
       "      <th>mobile_likes</th>\n",
       "      <th>mobile_likes_received</th>\n",
       "      <th>www_likes</th>\n",
       "      <th>www_likes_received</th>\n",
       "    </tr>\n",
       "  </thead>\n",
       "  <tbody>\n",
       "    <tr>\n",
       "      <th>98998</th>\n",
       "      <td>1268299</td>\n",
       "      <td>68</td>\n",
       "      <td>4</td>\n",
       "      <td>1945</td>\n",
       "      <td>4</td>\n",
       "      <td>female</td>\n",
       "      <td>541.0</td>\n",
       "      <td>2118</td>\n",
       "      <td>341</td>\n",
       "      <td>3996</td>\n",
       "      <td>18089</td>\n",
       "      <td>3505</td>\n",
       "      <td>11887</td>\n",
       "      <td>491</td>\n",
       "      <td>6202</td>\n",
       "    </tr>\n",
       "    <tr>\n",
       "      <th>98999</th>\n",
       "      <td>1256153</td>\n",
       "      <td>18</td>\n",
       "      <td>12</td>\n",
       "      <td>1995</td>\n",
       "      <td>3</td>\n",
       "      <td>female</td>\n",
       "      <td>21.0</td>\n",
       "      <td>1968</td>\n",
       "      <td>1720</td>\n",
       "      <td>4401</td>\n",
       "      <td>13412</td>\n",
       "      <td>4399</td>\n",
       "      <td>10592</td>\n",
       "      <td>2</td>\n",
       "      <td>2820</td>\n",
       "    </tr>\n",
       "    <tr>\n",
       "      <th>99000</th>\n",
       "      <td>1195943</td>\n",
       "      <td>15</td>\n",
       "      <td>10</td>\n",
       "      <td>1998</td>\n",
       "      <td>5</td>\n",
       "      <td>female</td>\n",
       "      <td>111.0</td>\n",
       "      <td>2002</td>\n",
       "      <td>1524</td>\n",
       "      <td>11959</td>\n",
       "      <td>12554</td>\n",
       "      <td>11959</td>\n",
       "      <td>11462</td>\n",
       "      <td>0</td>\n",
       "      <td>1092</td>\n",
       "    </tr>\n",
       "    <tr>\n",
       "      <th>99001</th>\n",
       "      <td>1468023</td>\n",
       "      <td>23</td>\n",
       "      <td>11</td>\n",
       "      <td>1990</td>\n",
       "      <td>4</td>\n",
       "      <td>female</td>\n",
       "      <td>416.0</td>\n",
       "      <td>2560</td>\n",
       "      <td>185</td>\n",
       "      <td>4506</td>\n",
       "      <td>6516</td>\n",
       "      <td>4506</td>\n",
       "      <td>5760</td>\n",
       "      <td>0</td>\n",
       "      <td>756</td>\n",
       "    </tr>\n",
       "    <tr>\n",
       "      <th>99002</th>\n",
       "      <td>1397896</td>\n",
       "      <td>39</td>\n",
       "      <td>15</td>\n",
       "      <td>1974</td>\n",
       "      <td>5</td>\n",
       "      <td>female</td>\n",
       "      <td>397.0</td>\n",
       "      <td>2049</td>\n",
       "      <td>768</td>\n",
       "      <td>9410</td>\n",
       "      <td>12443</td>\n",
       "      <td>9410</td>\n",
       "      <td>9530</td>\n",
       "      <td>0</td>\n",
       "      <td>2913</td>\n",
       "    </tr>\n",
       "  </tbody>\n",
       "</table>\n",
       "</div>"
      ],
      "text/plain": [
       "        userid  age  dob_day  dob_year  dob_month  gender  tenure  \\\n",
       "98998  1268299   68        4      1945          4  female   541.0   \n",
       "98999  1256153   18       12      1995          3  female    21.0   \n",
       "99000  1195943   15       10      1998          5  female   111.0   \n",
       "99001  1468023   23       11      1990          4  female   416.0   \n",
       "99002  1397896   39       15      1974          5  female   397.0   \n",
       "\n",
       "       friend_count  friendships_initiated  likes  likes_received  \\\n",
       "98998          2118                    341   3996           18089   \n",
       "98999          1968                   1720   4401           13412   \n",
       "99000          2002                   1524  11959           12554   \n",
       "99001          2560                    185   4506            6516   \n",
       "99002          2049                    768   9410           12443   \n",
       "\n",
       "       mobile_likes  mobile_likes_received  www_likes  www_likes_received  \n",
       "98998          3505                  11887        491                6202  \n",
       "98999          4399                  10592          2                2820  \n",
       "99000         11959                  11462          0                1092  \n",
       "99001          4506                   5760          0                 756  \n",
       "99002          9410                   9530          0                2913  "
      ]
     },
     "execution_count": 5,
     "metadata": {},
     "output_type": "execute_result"
    }
   ],
   "source": [
    "fb_data.tail()"
   ]
  },
  {
   "cell_type": "code",
   "execution_count": 6,
   "metadata": {},
   "outputs": [
    {
     "data": {
      "text/plain": [
       "(99003, 15)"
      ]
     },
     "execution_count": 6,
     "metadata": {},
     "output_type": "execute_result"
    }
   ],
   "source": [
    "fb_data.shape"
   ]
  },
  {
   "cell_type": "markdown",
   "metadata": {},
   "source": [
    "__Facebook__ data has __99003 rows__ and __15 columns__"
   ]
  },
  {
   "cell_type": "code",
   "execution_count": 7,
   "metadata": {},
   "outputs": [
    {
     "data": {
      "text/plain": [
       "Index(['userid', 'age', 'dob_day', 'dob_year', 'dob_month', 'gender', 'tenure',\n",
       "       'friend_count', 'friendships_initiated', 'likes', 'likes_received',\n",
       "       'mobile_likes', 'mobile_likes_received', 'www_likes',\n",
       "       'www_likes_received'],\n",
       "      dtype='object')"
      ]
     },
     "execution_count": 7,
     "metadata": {},
     "output_type": "execute_result"
    }
   ],
   "source": [
    "fb_data.columns"
   ]
  },
  {
   "cell_type": "code",
   "execution_count": 8,
   "metadata": {},
   "outputs": [
    {
     "name": "stdout",
     "output_type": "stream",
     "text": [
      "<class 'pandas.core.frame.DataFrame'>\n",
      "RangeIndex: 99003 entries, 0 to 99002\n",
      "Data columns (total 15 columns):\n",
      "userid                   99003 non-null int64\n",
      "age                      99003 non-null int64\n",
      "dob_day                  99003 non-null int64\n",
      "dob_year                 99003 non-null int64\n",
      "dob_month                99003 non-null int64\n",
      "gender                   98828 non-null object\n",
      "tenure                   99001 non-null float64\n",
      "friend_count             99003 non-null int64\n",
      "friendships_initiated    99003 non-null int64\n",
      "likes                    99003 non-null int64\n",
      "likes_received           99003 non-null int64\n",
      "mobile_likes             99003 non-null int64\n",
      "mobile_likes_received    99003 non-null int64\n",
      "www_likes                99003 non-null int64\n",
      "www_likes_received       99003 non-null int64\n",
      "dtypes: float64(1), int64(13), object(1)\n",
      "memory usage: 11.3+ MB\n"
     ]
    }
   ],
   "source": [
    "fb_data.info()"
   ]
  },
  {
   "cell_type": "code",
   "execution_count": 9,
   "metadata": {},
   "outputs": [
    {
     "data": {
      "text/html": [
       "<div>\n",
       "<style scoped>\n",
       "    .dataframe tbody tr th:only-of-type {\n",
       "        vertical-align: middle;\n",
       "    }\n",
       "\n",
       "    .dataframe tbody tr th {\n",
       "        vertical-align: top;\n",
       "    }\n",
       "\n",
       "    .dataframe thead th {\n",
       "        text-align: right;\n",
       "    }\n",
       "</style>\n",
       "<table border=\"1\" class=\"dataframe\">\n",
       "  <thead>\n",
       "    <tr style=\"text-align: right;\">\n",
       "      <th></th>\n",
       "      <th>userid</th>\n",
       "      <th>age</th>\n",
       "      <th>dob_day</th>\n",
       "      <th>dob_year</th>\n",
       "      <th>dob_month</th>\n",
       "      <th>tenure</th>\n",
       "      <th>friend_count</th>\n",
       "      <th>friendships_initiated</th>\n",
       "      <th>likes</th>\n",
       "      <th>likes_received</th>\n",
       "      <th>mobile_likes</th>\n",
       "      <th>mobile_likes_received</th>\n",
       "      <th>www_likes</th>\n",
       "      <th>www_likes_received</th>\n",
       "    </tr>\n",
       "  </thead>\n",
       "  <tbody>\n",
       "    <tr>\n",
       "      <th>count</th>\n",
       "      <td>9.900300e+04</td>\n",
       "      <td>99003.000000</td>\n",
       "      <td>99003.000000</td>\n",
       "      <td>99003.000000</td>\n",
       "      <td>99003.000000</td>\n",
       "      <td>99001.000000</td>\n",
       "      <td>99003.000000</td>\n",
       "      <td>99003.000000</td>\n",
       "      <td>99003.000000</td>\n",
       "      <td>99003.000000</td>\n",
       "      <td>99003.000000</td>\n",
       "      <td>99003.000000</td>\n",
       "      <td>99003.000000</td>\n",
       "      <td>99003.000000</td>\n",
       "    </tr>\n",
       "    <tr>\n",
       "      <th>mean</th>\n",
       "      <td>1.597045e+06</td>\n",
       "      <td>37.280224</td>\n",
       "      <td>14.530408</td>\n",
       "      <td>1975.719776</td>\n",
       "      <td>6.283365</td>\n",
       "      <td>537.887375</td>\n",
       "      <td>196.350787</td>\n",
       "      <td>107.452471</td>\n",
       "      <td>156.078785</td>\n",
       "      <td>142.689363</td>\n",
       "      <td>106.116300</td>\n",
       "      <td>84.120491</td>\n",
       "      <td>49.962425</td>\n",
       "      <td>58.568831</td>\n",
       "    </tr>\n",
       "    <tr>\n",
       "      <th>std</th>\n",
       "      <td>3.440592e+05</td>\n",
       "      <td>22.589748</td>\n",
       "      <td>9.015606</td>\n",
       "      <td>22.589748</td>\n",
       "      <td>3.529672</td>\n",
       "      <td>457.649874</td>\n",
       "      <td>387.304229</td>\n",
       "      <td>188.786951</td>\n",
       "      <td>572.280681</td>\n",
       "      <td>1387.919613</td>\n",
       "      <td>445.252985</td>\n",
       "      <td>839.889444</td>\n",
       "      <td>285.560152</td>\n",
       "      <td>601.416348</td>\n",
       "    </tr>\n",
       "    <tr>\n",
       "      <th>min</th>\n",
       "      <td>1.000008e+06</td>\n",
       "      <td>13.000000</td>\n",
       "      <td>1.000000</td>\n",
       "      <td>1900.000000</td>\n",
       "      <td>1.000000</td>\n",
       "      <td>0.000000</td>\n",
       "      <td>0.000000</td>\n",
       "      <td>0.000000</td>\n",
       "      <td>0.000000</td>\n",
       "      <td>0.000000</td>\n",
       "      <td>0.000000</td>\n",
       "      <td>0.000000</td>\n",
       "      <td>0.000000</td>\n",
       "      <td>0.000000</td>\n",
       "    </tr>\n",
       "    <tr>\n",
       "      <th>25%</th>\n",
       "      <td>1.298806e+06</td>\n",
       "      <td>20.000000</td>\n",
       "      <td>7.000000</td>\n",
       "      <td>1963.000000</td>\n",
       "      <td>3.000000</td>\n",
       "      <td>226.000000</td>\n",
       "      <td>31.000000</td>\n",
       "      <td>17.000000</td>\n",
       "      <td>1.000000</td>\n",
       "      <td>1.000000</td>\n",
       "      <td>0.000000</td>\n",
       "      <td>0.000000</td>\n",
       "      <td>0.000000</td>\n",
       "      <td>0.000000</td>\n",
       "    </tr>\n",
       "    <tr>\n",
       "      <th>50%</th>\n",
       "      <td>1.596148e+06</td>\n",
       "      <td>28.000000</td>\n",
       "      <td>14.000000</td>\n",
       "      <td>1985.000000</td>\n",
       "      <td>6.000000</td>\n",
       "      <td>412.000000</td>\n",
       "      <td>82.000000</td>\n",
       "      <td>46.000000</td>\n",
       "      <td>11.000000</td>\n",
       "      <td>8.000000</td>\n",
       "      <td>4.000000</td>\n",
       "      <td>4.000000</td>\n",
       "      <td>0.000000</td>\n",
       "      <td>2.000000</td>\n",
       "    </tr>\n",
       "    <tr>\n",
       "      <th>75%</th>\n",
       "      <td>1.895744e+06</td>\n",
       "      <td>50.000000</td>\n",
       "      <td>22.000000</td>\n",
       "      <td>1993.000000</td>\n",
       "      <td>9.000000</td>\n",
       "      <td>675.000000</td>\n",
       "      <td>206.000000</td>\n",
       "      <td>117.000000</td>\n",
       "      <td>81.000000</td>\n",
       "      <td>59.000000</td>\n",
       "      <td>46.000000</td>\n",
       "      <td>33.000000</td>\n",
       "      <td>7.000000</td>\n",
       "      <td>20.000000</td>\n",
       "    </tr>\n",
       "    <tr>\n",
       "      <th>max</th>\n",
       "      <td>2.193542e+06</td>\n",
       "      <td>113.000000</td>\n",
       "      <td>31.000000</td>\n",
       "      <td>2000.000000</td>\n",
       "      <td>12.000000</td>\n",
       "      <td>3139.000000</td>\n",
       "      <td>4923.000000</td>\n",
       "      <td>4144.000000</td>\n",
       "      <td>25111.000000</td>\n",
       "      <td>261197.000000</td>\n",
       "      <td>25111.000000</td>\n",
       "      <td>138561.000000</td>\n",
       "      <td>14865.000000</td>\n",
       "      <td>129953.000000</td>\n",
       "    </tr>\n",
       "  </tbody>\n",
       "</table>\n",
       "</div>"
      ],
      "text/plain": [
       "             userid           age       dob_day      dob_year     dob_month  \\\n",
       "count  9.900300e+04  99003.000000  99003.000000  99003.000000  99003.000000   \n",
       "mean   1.597045e+06     37.280224     14.530408   1975.719776      6.283365   \n",
       "std    3.440592e+05     22.589748      9.015606     22.589748      3.529672   \n",
       "min    1.000008e+06     13.000000      1.000000   1900.000000      1.000000   \n",
       "25%    1.298806e+06     20.000000      7.000000   1963.000000      3.000000   \n",
       "50%    1.596148e+06     28.000000     14.000000   1985.000000      6.000000   \n",
       "75%    1.895744e+06     50.000000     22.000000   1993.000000      9.000000   \n",
       "max    2.193542e+06    113.000000     31.000000   2000.000000     12.000000   \n",
       "\n",
       "             tenure  friend_count  friendships_initiated         likes  \\\n",
       "count  99001.000000  99003.000000           99003.000000  99003.000000   \n",
       "mean     537.887375    196.350787             107.452471    156.078785   \n",
       "std      457.649874    387.304229             188.786951    572.280681   \n",
       "min        0.000000      0.000000               0.000000      0.000000   \n",
       "25%      226.000000     31.000000              17.000000      1.000000   \n",
       "50%      412.000000     82.000000              46.000000     11.000000   \n",
       "75%      675.000000    206.000000             117.000000     81.000000   \n",
       "max     3139.000000   4923.000000            4144.000000  25111.000000   \n",
       "\n",
       "       likes_received  mobile_likes  mobile_likes_received     www_likes  \\\n",
       "count    99003.000000  99003.000000           99003.000000  99003.000000   \n",
       "mean       142.689363    106.116300              84.120491     49.962425   \n",
       "std       1387.919613    445.252985             839.889444    285.560152   \n",
       "min          0.000000      0.000000               0.000000      0.000000   \n",
       "25%          1.000000      0.000000               0.000000      0.000000   \n",
       "50%          8.000000      4.000000               4.000000      0.000000   \n",
       "75%         59.000000     46.000000              33.000000      7.000000   \n",
       "max     261197.000000  25111.000000          138561.000000  14865.000000   \n",
       "\n",
       "       www_likes_received  \n",
       "count        99003.000000  \n",
       "mean            58.568831  \n",
       "std            601.416348  \n",
       "min              0.000000  \n",
       "25%              0.000000  \n",
       "50%              2.000000  \n",
       "75%             20.000000  \n",
       "max         129953.000000  "
      ]
     },
     "execution_count": 9,
     "metadata": {},
     "output_type": "execute_result"
    }
   ],
   "source": [
    "fb_data.describe()"
   ]
  },
  {
   "cell_type": "code",
   "execution_count": 10,
   "metadata": {},
   "outputs": [
    {
     "data": {
      "text/plain": [
       "userid                     0\n",
       "age                        0\n",
       "dob_day                    0\n",
       "dob_year                   0\n",
       "dob_month                  0\n",
       "gender                   175\n",
       "tenure                     2\n",
       "friend_count               0\n",
       "friendships_initiated      0\n",
       "likes                      0\n",
       "likes_received             0\n",
       "mobile_likes               0\n",
       "mobile_likes_received      0\n",
       "www_likes                  0\n",
       "www_likes_received         0\n",
       "dtype: int64"
      ]
     },
     "execution_count": 10,
     "metadata": {},
     "output_type": "execute_result"
    }
   ],
   "source": [
    "fb_data.isnull().sum()"
   ]
  },
  {
   "cell_type": "markdown",
   "metadata": {},
   "source": [
    "- From the above output we can see that __gender__ column contains __maximum null values__.\n",
    "- Also __tenure__ column has 2 __null values__ "
   ]
  },
  {
   "cell_type": "markdown",
   "metadata": {},
   "source": [
    " "
   ]
  },
  {
   "cell_type": "markdown",
   "metadata": {},
   "source": [
    "### 3.2 Pre Profiling"
   ]
  },
  {
   "cell_type": "markdown",
   "metadata": {},
   "source": [
    "- By pandas profiling, an __interactive HTML report__ gets generated which contins all the information about the columns of the dataset, like the __counts and type__ of each _column_. Detailed information about each column, __coorelation between different columns__ and a sample of dataset.<br/>\n",
    "- It gives us __visual interpretation__ of each column in the data.\n",
    "- _Spread of the data_ can be better understood by the distribution plot. \n",
    "- _Grannular level_ analysis of each column."
   ]
  },
  {
   "cell_type": "code",
   "execution_count": 11,
   "metadata": {},
   "outputs": [],
   "source": [
    "profile = pandas_profiling.ProfileReport(fb_data)\n",
    "\n",
    "profile.to_file(output_file=\"facebook_data_before_preprocessing.html\")"
   ]
  },
  {
   "cell_type": "markdown",
   "metadata": {},
   "source": [
    "We can run the __facebook_data_before_preprocessing.html__ in browser and see various useful insights from it."
   ]
  },
  {
   "cell_type": "markdown",
   "metadata": {},
   "source": [
    "Based on the above profiling data we can preprocess the dataset."
   ]
  },
  {
   "cell_type": "markdown",
   "metadata": {},
   "source": [
    " "
   ]
  },
  {
   "cell_type": "markdown",
   "metadata": {},
   "source": [
    "### 3.3 Preprocessing"
   ]
  },
  {
   "cell_type": "markdown",
   "metadata": {},
   "source": [
    "- Dealing with missing values<br/>\n",
    "    - Dropping missing entries of __gender.__\n",
    "    - Dropping missing entries of __tenure.__\n",
    "    - Typecasting the __tenure__ column to __int64__\n",
    "    - Dropping the columns __dob_day__ and __dob_month__ as it is not required since __age__ and __dob_year__ is present.\n",
    "    - Adding one more column __age_group__ to get insights regrding the particular __age group__ say, __Teenage__, __Adult__, __Senior citizen__."
   ]
  },
  {
   "cell_type": "code",
   "execution_count": 11,
   "metadata": {},
   "outputs": [],
   "source": [
    "fb_data.drop(fb_data[fb_data.gender.isnull() == True].index, inplace=True)"
   ]
  },
  {
   "cell_type": "code",
   "execution_count": 12,
   "metadata": {},
   "outputs": [],
   "source": [
    "fb_data.drop(fb_data[fb_data.tenure.isnull() == True].index, inplace=True)"
   ]
  },
  {
   "cell_type": "code",
   "execution_count": 13,
   "metadata": {},
   "outputs": [
    {
     "data": {
      "text/plain": [
       "userid                   0\n",
       "age                      0\n",
       "dob_day                  0\n",
       "dob_year                 0\n",
       "dob_month                0\n",
       "gender                   0\n",
       "tenure                   0\n",
       "friend_count             0\n",
       "friendships_initiated    0\n",
       "likes                    0\n",
       "likes_received           0\n",
       "mobile_likes             0\n",
       "mobile_likes_received    0\n",
       "www_likes                0\n",
       "www_likes_received       0\n",
       "dtype: int64"
      ]
     },
     "execution_count": 13,
     "metadata": {},
     "output_type": "execute_result"
    }
   ],
   "source": [
    "fb_data.isnull().sum()"
   ]
  },
  {
   "cell_type": "code",
   "execution_count": 14,
   "metadata": {},
   "outputs": [],
   "source": [
    "fb_data.tenure = fb_data.tenure.astype(np.int64)"
   ]
  },
  {
   "cell_type": "code",
   "execution_count": 15,
   "metadata": {},
   "outputs": [
    {
     "name": "stdout",
     "output_type": "stream",
     "text": [
      "<class 'pandas.core.frame.DataFrame'>\n",
      "Int64Index: 98826 entries, 0 to 99002\n",
      "Data columns (total 15 columns):\n",
      "userid                   98826 non-null int64\n",
      "age                      98826 non-null int64\n",
      "dob_day                  98826 non-null int64\n",
      "dob_year                 98826 non-null int64\n",
      "dob_month                98826 non-null int64\n",
      "gender                   98826 non-null object\n",
      "tenure                   98826 non-null int64\n",
      "friend_count             98826 non-null int64\n",
      "friendships_initiated    98826 non-null int64\n",
      "likes                    98826 non-null int64\n",
      "likes_received           98826 non-null int64\n",
      "mobile_likes             98826 non-null int64\n",
      "mobile_likes_received    98826 non-null int64\n",
      "www_likes                98826 non-null int64\n",
      "www_likes_received       98826 non-null int64\n",
      "dtypes: int64(14), object(1)\n",
      "memory usage: 12.1+ MB\n"
     ]
    }
   ],
   "source": [
    "fb_data.info()"
   ]
  },
  {
   "cell_type": "code",
   "execution_count": 16,
   "metadata": {},
   "outputs": [],
   "source": [
    "fb_data.drop(['dob_day','dob_month'], axis=1, inplace=True)"
   ]
  },
  {
   "cell_type": "code",
   "execution_count": 17,
   "metadata": {},
   "outputs": [],
   "source": [
    "fb_data['age_group'] = fb_data.apply(lambda x: '0-15' if x['age']<=15 else('16-20' if x['age']<=20 else('21-30' if x['age']<=30 else('31-45' if x['age']<=45 else('46-65' if x['age']<=65 else '>66')))), axis=1)"
   ]
  },
  {
   "cell_type": "code",
   "execution_count": 18,
   "metadata": {},
   "outputs": [
    {
     "data": {
      "text/html": [
       "<div>\n",
       "<style scoped>\n",
       "    .dataframe tbody tr th:only-of-type {\n",
       "        vertical-align: middle;\n",
       "    }\n",
       "\n",
       "    .dataframe tbody tr th {\n",
       "        vertical-align: top;\n",
       "    }\n",
       "\n",
       "    .dataframe thead th {\n",
       "        text-align: right;\n",
       "    }\n",
       "</style>\n",
       "<table border=\"1\" class=\"dataframe\">\n",
       "  <thead>\n",
       "    <tr style=\"text-align: right;\">\n",
       "      <th></th>\n",
       "      <th>userid</th>\n",
       "      <th>age</th>\n",
       "      <th>dob_year</th>\n",
       "      <th>gender</th>\n",
       "      <th>tenure</th>\n",
       "      <th>friend_count</th>\n",
       "      <th>friendships_initiated</th>\n",
       "      <th>likes</th>\n",
       "      <th>likes_received</th>\n",
       "      <th>mobile_likes</th>\n",
       "      <th>mobile_likes_received</th>\n",
       "      <th>www_likes</th>\n",
       "      <th>www_likes_received</th>\n",
       "      <th>age_group</th>\n",
       "    </tr>\n",
       "  </thead>\n",
       "  <tbody>\n",
       "    <tr>\n",
       "      <th>0</th>\n",
       "      <td>2094382</td>\n",
       "      <td>14</td>\n",
       "      <td>1999</td>\n",
       "      <td>male</td>\n",
       "      <td>266</td>\n",
       "      <td>0</td>\n",
       "      <td>0</td>\n",
       "      <td>0</td>\n",
       "      <td>0</td>\n",
       "      <td>0</td>\n",
       "      <td>0</td>\n",
       "      <td>0</td>\n",
       "      <td>0</td>\n",
       "      <td>0-15</td>\n",
       "    </tr>\n",
       "    <tr>\n",
       "      <th>1</th>\n",
       "      <td>1192601</td>\n",
       "      <td>14</td>\n",
       "      <td>1999</td>\n",
       "      <td>female</td>\n",
       "      <td>6</td>\n",
       "      <td>0</td>\n",
       "      <td>0</td>\n",
       "      <td>0</td>\n",
       "      <td>0</td>\n",
       "      <td>0</td>\n",
       "      <td>0</td>\n",
       "      <td>0</td>\n",
       "      <td>0</td>\n",
       "      <td>0-15</td>\n",
       "    </tr>\n",
       "  </tbody>\n",
       "</table>\n",
       "</div>"
      ],
      "text/plain": [
       "    userid  age  dob_year  gender  tenure  friend_count  \\\n",
       "0  2094382   14      1999    male     266             0   \n",
       "1  1192601   14      1999  female       6             0   \n",
       "\n",
       "   friendships_initiated  likes  likes_received  mobile_likes  \\\n",
       "0                      0      0               0             0   \n",
       "1                      0      0               0             0   \n",
       "\n",
       "   mobile_likes_received  www_likes  www_likes_received age_group  \n",
       "0                      0          0                   0      0-15  \n",
       "1                      0          0                   0      0-15  "
      ]
     },
     "execution_count": 18,
     "metadata": {},
     "output_type": "execute_result"
    }
   ],
   "source": [
    "fb_data.head(2)"
   ]
  },
  {
   "cell_type": "code",
   "execution_count": 19,
   "metadata": {},
   "outputs": [
    {
     "name": "stdout",
     "output_type": "stream",
     "text": [
      "<class 'pandas.core.frame.DataFrame'>\n",
      "Int64Index: 98826 entries, 0 to 99002\n",
      "Data columns (total 14 columns):\n",
      "userid                   98826 non-null int64\n",
      "age                      98826 non-null int64\n",
      "dob_year                 98826 non-null int64\n",
      "gender                   98826 non-null object\n",
      "tenure                   98826 non-null int64\n",
      "friend_count             98826 non-null int64\n",
      "friendships_initiated    98826 non-null int64\n",
      "likes                    98826 non-null int64\n",
      "likes_received           98826 non-null int64\n",
      "mobile_likes             98826 non-null int64\n",
      "mobile_likes_received    98826 non-null int64\n",
      "www_likes                98826 non-null int64\n",
      "www_likes_received       98826 non-null int64\n",
      "age_group                98826 non-null object\n",
      "dtypes: int64(12), object(2)\n",
      "memory usage: 11.3+ MB\n"
     ]
    }
   ],
   "source": [
    "fb_data.info()"
   ]
  },
  {
   "cell_type": "markdown",
   "metadata": {},
   "source": [
    " "
   ]
  },
  {
   "cell_type": "markdown",
   "metadata": {},
   "source": [
    "### 3.4 Post Profiling"
   ]
  },
  {
   "cell_type": "code",
   "execution_count": 22,
   "metadata": {},
   "outputs": [],
   "source": [
    "profile = pandas_profiling.ProfileReport(fb_data)\n",
    "profile.to_file(output_file=\"facebook_data_after_preprocessing.html\")"
   ]
  },
  {
   "cell_type": "markdown",
   "metadata": {},
   "source": [
    "After preprocessing of data, we have come up with some insights like:\n",
    "- __Minimum__, __maximum__, __mean__, __Distinct count__, value of all numerical columns, __age__, __friend_count__, __tenure__, __likes__ etc\n",
    "- Now we have __98826 rows__ and __14 columns__\n",
    "- We can see the __corelation__ between various column of dataset"
   ]
  },
  {
   "cell_type": "markdown",
   "metadata": {},
   "source": [
    " "
   ]
  },
  {
   "cell_type": "markdown",
   "metadata": {},
   "source": [
    "## 4. Questions"
   ]
  },
  {
   "cell_type": "markdown",
   "metadata": {},
   "source": [
    "### 4.1 What is the gender distribution of dataset?"
   ]
  },
  {
   "cell_type": "code",
   "execution_count": 20,
   "metadata": {},
   "outputs": [
    {
     "data": {
      "image/png": "[encoded data removed]",
      "text/plain": [
       "<Figure size 864x576 with 1 Axes>"
      ]
     },
     "metadata": {
      "needs_background": "light"
     },
     "output_type": "display_data"
    }
   ],
   "source": [
    "ncount = len(fb_data)\n",
    "\n",
    "plt.figure(figsize=(12,8))\n",
    "ax = sns.countplot(x=\"gender\", data=fb_data)\n",
    "plt.title('Gender distribution in facebook data')\n",
    "plt.xlabel('Gender')\n",
    "plt.ylabel('Count')\n",
    "\n",
    "\n",
    "# set the alignment of the text\n",
    "for p in ax.patches:\n",
    "    x=p.get_bbox().get_points()[:,0]\n",
    "    y=p.get_bbox().get_points()[1,1]\n",
    "    ax.annotate('{:.1f}%'.format(100.*y/ncount), (x.mean(), y), \n",
    "            ha='center', va='bottom') \n",
    "\n",
    "# Use a LinearLocator to ensure the correct number of ticks\n",
    "ax.yaxis.set_major_locator(ticker.LinearLocator(10))"
   ]
  },
  {
   "cell_type": "markdown",
   "metadata": {},
   "source": [
    "We can see, there are __more numbers of Male__ present in the dataset"
   ]
  },
  {
   "cell_type": "markdown",
   "metadata": {},
   "source": [
    " "
   ]
  },
  {
   "cell_type": "markdown",
   "metadata": {},
   "source": [
    "### 4.2 Number of users among different age group of dataset?"
   ]
  },
  {
   "cell_type": "code",
   "execution_count": 21,
   "metadata": {},
   "outputs": [
    {
     "data": {
      "image/png": "[encoded data removed]",
      "text/plain": [
       "<Figure size 864x576 with 1 Axes>"
      ]
     },
     "metadata": {
      "needs_background": "light"
     },
     "output_type": "display_data"
    }
   ],
   "source": [
    "plt.figure(figsize=(12,8))\n",
    "\n",
    "ncount = len(fb_data)\n",
    "ax = sns.countplot(x=\"age_group\", data=fb_data)\n",
    "\n",
    "plt.title('Age group distribution in facebook data')\n",
    "plt.xlabel('Age Groups(Years)')\n",
    "plt.ylabel('Count')\n",
    "\n",
    "# set the alignment of the text\n",
    "for p in ax.patches:\n",
    "    x=p.get_bbox().get_points()[:,0]\n",
    "    y=p.get_bbox().get_points()[1,1]\n",
    "    ax.annotate('{:.1f}%'.format(100.*y/ncount), (x.mean(), y), \n",
    "            ha='center', va='bottom')\n",
    "\n",
    "# Use a LinearLocator to ensure the correct number of ticks\n",
    "ax.yaxis.set_major_locator(ticker.LinearLocator(10))"
   ]
  },
  {
   "cell_type": "code",
   "execution_count": 23,
   "metadata": {},
   "outputs": [
    {
     "data": {
      "image/png": "[encoded data removed]",
      "text/plain": [
       "<Figure size 864x576 with 1 Axes>"
      ]
     },
     "metadata": {
      "needs_background": "light"
     },
     "output_type": "display_data"
    }
   ],
   "source": [
    "plt.figure(figsize=(12,8))\n",
    "sns.distplot(fb_data['age'],color ='g')\n",
    "plt.title('Distribution of Age')\n",
    "plt.xlabel('Age(Years)')\n",
    "plt.show()"
   ]
  },
  {
   "cell_type": "markdown",
   "metadata": {},
   "source": [
    "- We can see that __age group 21-30 years__ has maximum number of users followed by __16-20 years__.\n",
    "- Above graph shows the __total number__ and __percentage__ of users among different age group"
   ]
  },
  {
   "cell_type": "markdown",
   "metadata": {},
   "source": [
    " "
   ]
  },
  {
   "cell_type": "markdown",
   "metadata": {},
   "source": [
    "### 4.3 What is the gender distribution among different age group of dataset?"
   ]
  },
  {
   "cell_type": "code",
   "execution_count": 24,
   "metadata": {},
   "outputs": [
    {
     "data": {
      "image/png": "[encoded data removed]",
      "text/plain": [
       "<Figure size 864x576 with 1 Axes>"
      ]
     },
     "metadata": {
      "needs_background": "light"
     },
     "output_type": "display_data"
    }
   ],
   "source": [
    "ncount = len(fb_data)\n",
    "\n",
    "plt.figure(figsize=(12,8))\n",
    "ax = sns.countplot(x=\"age_group\", hue='gender', data=fb_data)\n",
    "plt.title('Gender distribution among different age group in facebook data')\n",
    "plt.xlabel('Age Groups(Years)')\n",
    "plt.ylabel('Count')\n",
    "\n",
    "# set the alignment of the text\n",
    "for p in ax.patches:\n",
    "    x=p.get_bbox().get_points()[:,0]\n",
    "    y=p.get_bbox().get_points()[1,1]\n",
    "    ax.annotate('{:.1f}%'.format(100.*y/ncount), (x.mean(), y), \n",
    "            ha='center', va='bottom')\n",
    "    \n",
    "# Use a LinearLocator to ensure the correct number of ticks\n",
    "ax.yaxis.set_major_locator(ticker.LinearLocator(10))"
   ]
  },
  {
   "cell_type": "markdown",
   "metadata": {},
   "source": [
    "- We can see that __Male__ users are more active in almost all group as per the dataset.\n",
    "- However, in age group __21-30 years__, the number of __Male__ users are around __two times__ than the __Female__."
   ]
  },
  {
   "cell_type": "markdown",
   "metadata": {},
   "source": [
    " "
   ]
  },
  {
   "cell_type": "markdown",
   "metadata": {},
   "source": [
    "### 4.4 How Tenure is distributed ?"
   ]
  },
  {
   "cell_type": "code",
   "execution_count": 27,
   "metadata": {},
   "outputs": [
    {
     "data": {
      "image/png": "[encoded data removed]",
      "text/plain": [
       "<Figure size 864x576 with 1 Axes>"
      ]
     },
     "metadata": {
      "needs_background": "light"
     },
     "output_type": "display_data"
    }
   ],
   "source": [
    "plt.figure(figsize=(12,8))\n",
    "sns.distplot(fb_data['tenure'],color ='g')\n",
    "plt.title('Distribution of Tenure')\n",
    "plt.xlabel('Tenure(Days)')\n",
    "plt.show()"
   ]
  },
  {
   "cell_type": "markdown",
   "metadata": {},
   "source": [
    "We can see that the dataset contains more entries with __Tenure between 100-600 days__"
   ]
  },
  {
   "cell_type": "markdown",
   "metadata": {},
   "source": [
    " "
   ]
  },
  {
   "cell_type": "markdown",
   "metadata": {},
   "source": [
    "## 5. Data correlation between each other"
   ]
  },
  {
   "cell_type": "code",
   "execution_count": 28,
   "metadata": {},
   "outputs": [
    {
     "data": {
      "image/png": "[encoded data removed]",
      "text/plain": [
       "<Figure size 720x720 with 2 Axes>"
      ]
     },
     "metadata": {
      "needs_background": "light"
     },
     "output_type": "display_data"
    }
   ],
   "source": [
    "data_correlation = fb_data.corr()\n",
    "plt.figure(figsize=(10,10))\n",
    "sns.heatmap(data_correlation,vmax=1,square=True,annot = True,cmap='YlGnBu',linecolor ='black')\n",
    "plt.title('Correlation between facebook data')\n",
    "plt.show()"
   ]
  },
  {
   "cell_type": "markdown",
   "metadata": {},
   "source": [
    "Here we can see the correlation between various data and their relative indices."
   ]
  },
  {
   "cell_type": "markdown",
   "metadata": {},
   "source": [
    "Now we will analize the data correlation of individual data with rispect to others. "
   ]
  },
  {
   "cell_type": "markdown",
   "metadata": {},
   "source": [
    " "
   ]
  },
  {
   "cell_type": "markdown",
   "metadata": {},
   "source": [
    "### 5.1 Creation of new derived dataset from preprocessed dataset"
   ]
  },
  {
   "cell_type": "markdown",
   "metadata": {},
   "source": [
    "We have to analize all numerical data according to __gender__ and __age group__"
   ]
  },
  {
   "cell_type": "markdown",
   "metadata": {},
   "source": [
    "So we'll pick only column with required data"
   ]
  },
  {
   "cell_type": "code",
   "execution_count": 29,
   "metadata": {},
   "outputs": [],
   "source": [
    "fb_data_likes = fb_data[['gender', 'age_group', 'friend_count', 'friendships_initiated', 'likes', 'likes_received', 'mobile_likes', 'mobile_likes_received', 'www_likes', 'www_likes_received']].copy()"
   ]
  },
  {
   "cell_type": "code",
   "execution_count": 30,
   "metadata": {},
   "outputs": [
    {
     "data": {
      "text/html": [
       "<div>\n",
       "<style scoped>\n",
       "    .dataframe tbody tr th:only-of-type {\n",
       "        vertical-align: middle;\n",
       "    }\n",
       "\n",
       "    .dataframe tbody tr th {\n",
       "        vertical-align: top;\n",
       "    }\n",
       "\n",
       "    .dataframe thead th {\n",
       "        text-align: right;\n",
       "    }\n",
       "</style>\n",
       "<table border=\"1\" class=\"dataframe\">\n",
       "  <thead>\n",
       "    <tr style=\"text-align: right;\">\n",
       "      <th></th>\n",
       "      <th>gender</th>\n",
       "      <th>age_group</th>\n",
       "      <th>friend_count</th>\n",
       "      <th>friendships_initiated</th>\n",
       "      <th>likes</th>\n",
       "      <th>likes_received</th>\n",
       "      <th>mobile_likes</th>\n",
       "      <th>mobile_likes_received</th>\n",
       "      <th>www_likes</th>\n",
       "      <th>www_likes_received</th>\n",
       "    </tr>\n",
       "  </thead>\n",
       "  <tbody>\n",
       "    <tr>\n",
       "      <th>0</th>\n",
       "      <td>male</td>\n",
       "      <td>0-15</td>\n",
       "      <td>0</td>\n",
       "      <td>0</td>\n",
       "      <td>0</td>\n",
       "      <td>0</td>\n",
       "      <td>0</td>\n",
       "      <td>0</td>\n",
       "      <td>0</td>\n",
       "      <td>0</td>\n",
       "    </tr>\n",
       "    <tr>\n",
       "      <th>1</th>\n",
       "      <td>female</td>\n",
       "      <td>0-15</td>\n",
       "      <td>0</td>\n",
       "      <td>0</td>\n",
       "      <td>0</td>\n",
       "      <td>0</td>\n",
       "      <td>0</td>\n",
       "      <td>0</td>\n",
       "      <td>0</td>\n",
       "      <td>0</td>\n",
       "    </tr>\n",
       "  </tbody>\n",
       "</table>\n",
       "</div>"
      ],
      "text/plain": [
       "   gender age_group  friend_count  friendships_initiated  likes  \\\n",
       "0    male      0-15             0                      0      0   \n",
       "1  female      0-15             0                      0      0   \n",
       "\n",
       "   likes_received  mobile_likes  mobile_likes_received  www_likes  \\\n",
       "0               0             0                      0          0   \n",
       "1               0             0                      0          0   \n",
       "\n",
       "   www_likes_received  \n",
       "0                   0  \n",
       "1                   0  "
      ]
     },
     "execution_count": 30,
     "metadata": {},
     "output_type": "execute_result"
    }
   ],
   "source": [
    "fb_data_likes.head(2)"
   ]
  },
  {
   "cell_type": "markdown",
   "metadata": {},
   "source": [
    " "
   ]
  },
  {
   "cell_type": "markdown",
   "metadata": {},
   "source": [
    "Finally the new dataset __fb_total_likes__ will contain sum of all rows of respective numerical column according to __gender__ and __age_group__"
   ]
  },
  {
   "cell_type": "code",
   "execution_count": 31,
   "metadata": {},
   "outputs": [
    {
     "data": {
      "text/html": [
       "<div>\n",
       "<style scoped>\n",
       "    .dataframe tbody tr th:only-of-type {\n",
       "        vertical-align: middle;\n",
       "    }\n",
       "\n",
       "    .dataframe tbody tr th {\n",
       "        vertical-align: top;\n",
       "    }\n",
       "\n",
       "    .dataframe thead th {\n",
       "        text-align: right;\n",
       "    }\n",
       "</style>\n",
       "<table border=\"1\" class=\"dataframe\">\n",
       "  <thead>\n",
       "    <tr style=\"text-align: right;\">\n",
       "      <th></th>\n",
       "      <th>age_group</th>\n",
       "      <th>gender</th>\n",
       "      <th>friend_count</th>\n",
       "      <th>friendships_initiated</th>\n",
       "      <th>likes</th>\n",
       "      <th>likes_received</th>\n",
       "      <th>mobile_likes</th>\n",
       "      <th>mobile_likes_received</th>\n",
       "      <th>www_likes</th>\n",
       "      <th>www_likes_received</th>\n",
       "    </tr>\n",
       "  </thead>\n",
       "  <tbody>\n",
       "    <tr>\n",
       "      <th>0</th>\n",
       "      <td>0-15</td>\n",
       "      <td>female</td>\n",
       "      <td>970553</td>\n",
       "      <td>438558</td>\n",
       "      <td>801417</td>\n",
       "      <td>841375</td>\n",
       "      <td>525876</td>\n",
       "      <td>482157</td>\n",
       "      <td>275541</td>\n",
       "      <td>359217</td>\n",
       "    </tr>\n",
       "    <tr>\n",
       "      <th>1</th>\n",
       "      <td>0-15</td>\n",
       "      <td>male</td>\n",
       "      <td>503254</td>\n",
       "      <td>337290</td>\n",
       "      <td>235580</td>\n",
       "      <td>149998</td>\n",
       "      <td>161574</td>\n",
       "      <td>90607</td>\n",
       "      <td>74006</td>\n",
       "      <td>59391</td>\n",
       "    </tr>\n",
       "    <tr>\n",
       "      <th>2</th>\n",
       "      <td>16-20</td>\n",
       "      <td>female</td>\n",
       "      <td>3583074</td>\n",
       "      <td>1585067</td>\n",
       "      <td>2874294</td>\n",
       "      <td>3879684</td>\n",
       "      <td>1887755</td>\n",
       "      <td>2320963</td>\n",
       "      <td>986538</td>\n",
       "      <td>1558719</td>\n",
       "    </tr>\n",
       "    <tr>\n",
       "      <th>3</th>\n",
       "      <td>16-20</td>\n",
       "      <td>male</td>\n",
       "      <td>2906879</td>\n",
       "      <td>1901680</td>\n",
       "      <td>1310078</td>\n",
       "      <td>1239448</td>\n",
       "      <td>894804</td>\n",
       "      <td>739375</td>\n",
       "      <td>415274</td>\n",
       "      <td>500073</td>\n",
       "    </tr>\n",
       "    <tr>\n",
       "      <th>4</th>\n",
       "      <td>21-30</td>\n",
       "      <td>female</td>\n",
       "      <td>2032981</td>\n",
       "      <td>1008054</td>\n",
       "      <td>2161038</td>\n",
       "      <td>2279513</td>\n",
       "      <td>1624315</td>\n",
       "      <td>1400186</td>\n",
       "      <td>536722</td>\n",
       "      <td>879327</td>\n",
       "    </tr>\n",
       "    <tr>\n",
       "      <th>5</th>\n",
       "      <td>21-30</td>\n",
       "      <td>male</td>\n",
       "      <td>2803593</td>\n",
       "      <td>1854813</td>\n",
       "      <td>1376264</td>\n",
       "      <td>1083156</td>\n",
       "      <td>1093373</td>\n",
       "      <td>676710</td>\n",
       "      <td>282890</td>\n",
       "      <td>406446</td>\n",
       "    </tr>\n",
       "    <tr>\n",
       "      <th>6</th>\n",
       "      <td>31-45</td>\n",
       "      <td>female</td>\n",
       "      <td>806547</td>\n",
       "      <td>447296</td>\n",
       "      <td>1488061</td>\n",
       "      <td>1155153</td>\n",
       "      <td>1139608</td>\n",
       "      <td>691924</td>\n",
       "      <td>348451</td>\n",
       "      <td>463229</td>\n",
       "    </tr>\n",
       "    <tr>\n",
       "      <th>7</th>\n",
       "      <td>31-45</td>\n",
       "      <td>male</td>\n",
       "      <td>952754</td>\n",
       "      <td>577812</td>\n",
       "      <td>600814</td>\n",
       "      <td>467051</td>\n",
       "      <td>484269</td>\n",
       "      <td>293888</td>\n",
       "      <td>116545</td>\n",
       "      <td>173163</td>\n",
       "    </tr>\n",
       "    <tr>\n",
       "      <th>8</th>\n",
       "      <td>46-65</td>\n",
       "      <td>female</td>\n",
       "      <td>1091485</td>\n",
       "      <td>598189</td>\n",
       "      <td>2211668</td>\n",
       "      <td>1344644</td>\n",
       "      <td>1278247</td>\n",
       "      <td>669396</td>\n",
       "      <td>933421</td>\n",
       "      <td>675248</td>\n",
       "    </tr>\n",
       "    <tr>\n",
       "      <th>9</th>\n",
       "      <td>46-65</td>\n",
       "      <td>male</td>\n",
       "      <td>864364</td>\n",
       "      <td>471254</td>\n",
       "      <td>742357</td>\n",
       "      <td>478223</td>\n",
       "      <td>478369</td>\n",
       "      <td>263496</td>\n",
       "      <td>263988</td>\n",
       "      <td>214727</td>\n",
       "    </tr>\n",
       "    <tr>\n",
       "      <th>10</th>\n",
       "      <td>&gt;66</td>\n",
       "      <td>female</td>\n",
       "      <td>1255433</td>\n",
       "      <td>507637</td>\n",
       "      <td>931500</td>\n",
       "      <td>620834</td>\n",
       "      <td>504619</td>\n",
       "      <td>356749</td>\n",
       "      <td>426881</td>\n",
       "      <td>264084</td>\n",
       "    </tr>\n",
       "    <tr>\n",
       "      <th>11</th>\n",
       "      <td>&gt;66</td>\n",
       "      <td>male</td>\n",
       "      <td>1635943</td>\n",
       "      <td>894174</td>\n",
       "      <td>694830</td>\n",
       "      <td>559975</td>\n",
       "      <td>417358</td>\n",
       "      <td>327677</td>\n",
       "      <td>277472</td>\n",
       "      <td>232298</td>\n",
       "    </tr>\n",
       "  </tbody>\n",
       "</table>\n",
       "</div>"
      ],
      "text/plain": [
       "   age_group  gender  friend_count  friendships_initiated    likes  \\\n",
       "0       0-15  female        970553                 438558   801417   \n",
       "1       0-15    male        503254                 337290   235580   \n",
       "2      16-20  female       3583074                1585067  2874294   \n",
       "3      16-20    male       2906879                1901680  1310078   \n",
       "4      21-30  female       2032981                1008054  2161038   \n",
       "5      21-30    male       2803593                1854813  1376264   \n",
       "6      31-45  female        806547                 447296  1488061   \n",
       "7      31-45    male        952754                 577812   600814   \n",
       "8      46-65  female       1091485                 598189  2211668   \n",
       "9      46-65    male        864364                 471254   742357   \n",
       "10       >66  female       1255433                 507637   931500   \n",
       "11       >66    male       1635943                 894174   694830   \n",
       "\n",
       "    likes_received  mobile_likes  mobile_likes_received  www_likes  \\\n",
       "0           841375        525876                 482157     275541   \n",
       "1           149998        161574                  90607      74006   \n",
       "2          3879684       1887755                2320963     986538   \n",
       "3          1239448        894804                 739375     415274   \n",
       "4          2279513       1624315                1400186     536722   \n",
       "5          1083156       1093373                 676710     282890   \n",
       "6          1155153       1139608                 691924     348451   \n",
       "7           467051        484269                 293888     116545   \n",
       "8          1344644       1278247                 669396     933421   \n",
       "9           478223        478369                 263496     263988   \n",
       "10          620834        504619                 356749     426881   \n",
       "11          559975        417358                 327677     277472   \n",
       "\n",
       "    www_likes_received  \n",
       "0               359217  \n",
       "1                59391  \n",
       "2              1558719  \n",
       "3               500073  \n",
       "4               879327  \n",
       "5               406446  \n",
       "6               463229  \n",
       "7               173163  \n",
       "8               675248  \n",
       "9               214727  \n",
       "10              264084  \n",
       "11              232298  "
      ]
     },
     "execution_count": 31,
     "metadata": {},
     "output_type": "execute_result"
    }
   ],
   "source": [
    "fb_t = fb_data_likes.groupby(['age_group', 'gender']).sum()\n",
    "fb_total_likes = fb_t.reset_index(level=['gender','age_group'])\n",
    "fb_total_likes"
   ]
  },
  {
   "cell_type": "markdown",
   "metadata": {},
   "source": [
    " "
   ]
  },
  {
   "cell_type": "markdown",
   "metadata": {},
   "source": [
    "We will create one more dataset to analize distributin of data among gender"
   ]
  },
  {
   "cell_type": "code",
   "execution_count": 32,
   "metadata": {},
   "outputs": [
    {
     "data": {
      "text/html": [
       "<div>\n",
       "<style scoped>\n",
       "    .dataframe tbody tr th:only-of-type {\n",
       "        vertical-align: middle;\n",
       "    }\n",
       "\n",
       "    .dataframe tbody tr th {\n",
       "        vertical-align: top;\n",
       "    }\n",
       "\n",
       "    .dataframe thead th {\n",
       "        text-align: right;\n",
       "    }\n",
       "</style>\n",
       "<table border=\"1\" class=\"dataframe\">\n",
       "  <thead>\n",
       "    <tr style=\"text-align: right;\">\n",
       "      <th></th>\n",
       "      <th>friend_count</th>\n",
       "      <th>friendships_initiated</th>\n",
       "      <th>likes</th>\n",
       "      <th>likes_received</th>\n",
       "      <th>mobile_likes</th>\n",
       "      <th>mobile_likes_received</th>\n",
       "      <th>www_likes</th>\n",
       "      <th>www_likes_received</th>\n",
       "    </tr>\n",
       "    <tr>\n",
       "      <th>gender</th>\n",
       "      <th></th>\n",
       "      <th></th>\n",
       "      <th></th>\n",
       "      <th></th>\n",
       "      <th></th>\n",
       "      <th></th>\n",
       "      <th></th>\n",
       "      <th></th>\n",
       "    </tr>\n",
       "  </thead>\n",
       "  <tbody>\n",
       "    <tr>\n",
       "      <th>female</th>\n",
       "      <td>9740073</td>\n",
       "      <td>4584801</td>\n",
       "      <td>10467978</td>\n",
       "      <td>10121203</td>\n",
       "      <td>6960420</td>\n",
       "      <td>5921375</td>\n",
       "      <td>3507554</td>\n",
       "      <td>4199824</td>\n",
       "    </tr>\n",
       "    <tr>\n",
       "      <th>male</th>\n",
       "      <td>9666787</td>\n",
       "      <td>6037023</td>\n",
       "      <td>4959923</td>\n",
       "      <td>3977851</td>\n",
       "      <td>3529747</td>\n",
       "      <td>2391753</td>\n",
       "      <td>1430175</td>\n",
       "      <td>1586098</td>\n",
       "    </tr>\n",
       "  </tbody>\n",
       "</table>\n",
       "</div>"
      ],
      "text/plain": [
       "        friend_count  friendships_initiated     likes  likes_received  \\\n",
       "gender                                                                  \n",
       "female       9740073                4584801  10467978        10121203   \n",
       "male         9666787                6037023   4959923         3977851   \n",
       "\n",
       "        mobile_likes  mobile_likes_received  www_likes  www_likes_received  \n",
       "gender                                                                      \n",
       "female       6960420                5921375    3507554             4199824  \n",
       "male         3529747                2391753    1430175             1586098  "
      ]
     },
     "execution_count": 32,
     "metadata": {},
     "output_type": "execute_result"
    }
   ],
   "source": [
    "fb_data_temp = fb_data[['gender', 'friend_count', 'friendships_initiated', 'likes', 'likes_received', 'mobile_likes', 'mobile_likes_received', 'www_likes', 'www_likes_received']].copy()\n",
    "fb_temp = fb_data_temp.groupby('gender').sum()\n",
    "fb_temp.head(2)"
   ]
  },
  {
   "cell_type": "markdown",
   "metadata": {},
   "source": [
    "#### Now we will analize relation using bar plot of each numerical column one by one"
   ]
  },
  {
   "cell_type": "markdown",
   "metadata": {},
   "source": [
    "### 5.2 Total Likes distribution for each age group in facebook data "
   ]
  },
  {
   "cell_type": "code",
   "execution_count": 33,
   "metadata": {},
   "outputs": [
    {
     "data": {
      "image/png": "[encoded data removed]",
      "text/plain": [
       "<Figure size 864x576 with 1 Axes>"
      ]
     },
     "metadata": {
      "needs_background": "light"
     },
     "output_type": "display_data"
    }
   ],
   "source": [
    "tsum = fb_total_likes['likes'].sum()\n",
    "\n",
    "plt.figure(figsize=(12,8))\n",
    "\n",
    "ax = sns.barplot(x='age_group', y='likes', hue='gender', data=fb_total_likes)\n",
    "plt.title('Total Likes distribution for each age group in facebook data')\n",
    "plt.xlabel('Age Groups(Years)')\n",
    "plt.ylabel('Likes')\n",
    "\n",
    "# set the alignment of the text\n",
    "for p in ax.patches:\n",
    "    x=p.get_bbox().get_points()[:,0]\n",
    "    y=p.get_bbox().get_points()[1,1]\n",
    "    ax.annotate('{:.1f}%'.format(100.*y/tsum), (x.mean(), y), \n",
    "            ha='center', va='bottom') \n",
    "\n",
    "# Use a LinearLocator to ensure the correct number of ticks\n",
    "ax.yaxis.set_major_locator(ticker.LinearLocator(10))"
   ]
  },
  {
   "cell_type": "code",
   "execution_count": 35,
   "metadata": {},
   "outputs": [
    {
     "data": {
      "image/png": "[encoded data removed]",
      "text/plain": [
       "<Figure size 720x432 with 1 Axes>"
      ]
     },
     "metadata": {},
     "output_type": "display_data"
    }
   ],
   "source": [
    "plt.figure(figsize=(10,6))\n",
    "fb_temp.likes.plot.pie(explode=[0,0.1],autopct='%1.1f%%',shadow=False)\n",
    "plt.ylabel('')\n",
    "plt.title('Likes Distribution')\n",
    "plt.tight_layout()"
   ]
  },
  {
   "cell_type": "markdown",
   "metadata": {},
   "source": [
    "- Total Likes by __Male : 32.1%__ \n",
    "- Total Likes by __Female : 67.9%__"
   ]
  },
  {
   "cell_type": "markdown",
   "metadata": {},
   "source": [
    "### 5.3 Total Mobile Likes distribution for each age group in facebook data"
   ]
  },
  {
   "cell_type": "code",
   "execution_count": 36,
   "metadata": {},
   "outputs": [
    {
     "data": {
      "image/png": "[encoded data removed]",
      "text/plain": [
       "<Figure size 864x576 with 1 Axes>"
      ]
     },
     "metadata": {
      "needs_background": "light"
     },
     "output_type": "display_data"
    }
   ],
   "source": [
    "plt.figure(figsize=(12,8))\n",
    "\n",
    "tsum = fb_total_likes['likes'].sum()\n",
    "ax = sns.barplot(x='age_group', y='mobile_likes', hue='gender', data=fb_total_likes)\n",
    "\n",
    "plt.title('Total Mobile Likes distribution for each age group in facebook data')\n",
    "plt.xlabel('Age Groups(Years)')\n",
    "plt.ylabel('Mobile Likes')\n",
    "\n",
    "# set the alignment of the text\n",
    "for p in ax.patches:\n",
    "    x=p.get_bbox().get_points()[:,0]\n",
    "    y=p.get_bbox().get_points()[1,1]\n",
    "    ax.annotate('{:.1f}%'.format(100.*y/tsum), (x.mean(), y), \n",
    "            ha='center', va='bottom')\n",
    "    \n",
    "# Use a LinearLocator to ensure the correct number of ticks\n",
    "ax.yaxis.set_major_locator(ticker.LinearLocator(10))"
   ]
  },
  {
   "cell_type": "markdown",
   "metadata": {},
   "source": [
    "__Mobile Likes is 67.9% of Total Likes__\n",
    "- __Mobile Likes__ by __Male is 22.8% of Total Likes__\n",
    "- __Mobile Likes__ by __Female is 45.1% of Total Likes__"
   ]
  },
  {
   "cell_type": "markdown",
   "metadata": {},
   "source": [
    "### 5.4 Total Web Likes distribution for each age group in facebook data"
   ]
  },
  {
   "cell_type": "code",
   "execution_count": 37,
   "metadata": {},
   "outputs": [
    {
     "data": {
      "image/png": "[encoded data removed]",
      "text/plain": [
       "<Figure size 864x576 with 1 Axes>"
      ]
     },
     "metadata": {
      "needs_background": "light"
     },
     "output_type": "display_data"
    }
   ],
   "source": [
    "plt.figure(figsize=(12,8))\n",
    "\n",
    "tsum = fb_total_likes['likes'].sum()\n",
    "ax = sns.barplot(x='age_group', y='www_likes', hue='gender', data=fb_total_likes)\n",
    "\n",
    "plt.title('Total Web Likes distribution for each age group in facebook data')\n",
    "plt.xlabel('Age Groups(Years)')\n",
    "plt.ylabel('Web Likes')\n",
    "\n",
    "# set the alignment of the text\n",
    "for p in ax.patches:\n",
    "    x=p.get_bbox().get_points()[:,0]\n",
    "    y=p.get_bbox().get_points()[1,1]\n",
    "    ax.annotate('{:.1f}%'.format(100.*y/tsum), (x.mean(), y), \n",
    "            ha='center', va='bottom')\n",
    "    \n",
    "# Use a LinearLocator to ensure the correct number of ticks\n",
    "ax.yaxis.set_major_locator(ticker.LinearLocator(10))"
   ]
  },
  {
   "cell_type": "markdown",
   "metadata": {},
   "source": [
    "__Web Likes is 32.1 % of Total Likes__\n",
    "- __Web Likes__ by __Male is 9.3% of Total Likes__\n",
    "- __Web Likes__ by __Female is 22.8% of Total Likes__"
   ]
  },
  {
   "cell_type": "markdown",
   "metadata": {},
   "source": [
    "### 5.5 Total Likes Received distribution for each age group in facebook data"
   ]
  },
  {
   "cell_type": "code",
   "execution_count": 38,
   "metadata": {},
   "outputs": [
    {
     "data": {
      "image/png": "[encoded data removed]",
      "text/plain": [
       "<Figure size 864x576 with 1 Axes>"
      ]
     },
     "metadata": {
      "needs_background": "light"
     },
     "output_type": "display_data"
    }
   ],
   "source": [
    "plt.figure(figsize=(12,8))\n",
    "\n",
    "tsum = fb_total_likes['likes_received'].sum()\n",
    "ax = sns.barplot(x='age_group', y='likes_received', hue='gender', data=fb_total_likes)\n",
    "\n",
    "plt.title('Total Likes Received distribution for each age group in facebook data')\n",
    "plt.xlabel('Age Groups(Years)')\n",
    "plt.ylabel('Likes Received')\n",
    "\n",
    "# set the alignment of the text\n",
    "for p in ax.patches:\n",
    "    x=p.get_bbox().get_points()[:,0]\n",
    "    y=p.get_bbox().get_points()[1,1]\n",
    "    ax.annotate('{:.1f}%'.format(100.*y/tsum), (x.mean(), y), \n",
    "            ha='center', va='bottom')\n",
    "    \n",
    "# Use a LinearLocator to ensure the correct number of ticks\n",
    "ax.yaxis.set_major_locator(ticker.LinearLocator(10))"
   ]
  },
  {
   "cell_type": "code",
   "execution_count": 40,
   "metadata": {},
   "outputs": [
    {
     "data": {
      "image/png": "[encoded data removed]",
      "text/plain": [
       "<Figure size 720x432 with 1 Axes>"
      ]
     },
     "metadata": {},
     "output_type": "display_data"
    }
   ],
   "source": [
    "plt.figure(figsize=(10,6))\n",
    "fb_temp.likes_received.plot.pie(explode=[0,0.1],autopct='%1.1f%%',shadow=False)\n",
    "plt.ylabel('')\n",
    "plt.title('Likes Received Distribution')\n",
    "plt.tight_layout()"
   ]
  },
  {
   "cell_type": "markdown",
   "metadata": {},
   "source": [
    "__Female received more likes than Male__\n",
    "- __Likes Received__ by __Male : 28.2%__ \n",
    "- __Likes Received__ by __Female : 71.8%__\n",
    "\n",
    "Here we can see that, though __number of Male__ are more in the dataset, still __Female received more likes__"
   ]
  },
  {
   "cell_type": "markdown",
   "metadata": {},
   "source": [
    "### 5.6 Total Mobile Likes Received distribution for each age group in facebook data"
   ]
  },
  {
   "cell_type": "code",
   "execution_count": 41,
   "metadata": {},
   "outputs": [
    {
     "data": {
      "image/png": "[encoded data removed]",
      "text/plain": [
       "<Figure size 864x576 with 1 Axes>"
      ]
     },
     "metadata": {
      "needs_background": "light"
     },
     "output_type": "display_data"
    }
   ],
   "source": [
    "plt.figure(figsize=(12,8))\n",
    "\n",
    "tsum = fb_total_likes['likes_received'].sum()\n",
    "ax = sns.barplot(x='age_group', y='mobile_likes_received', hue='gender', data=fb_total_likes)\n",
    "\n",
    "plt.title('Total Mobile Likes Received distribution for each age group in facebook data')\n",
    "plt.xlabel('Age Groups(Years)')\n",
    "plt.ylabel('Mobile Likes Received')\n",
    "\n",
    "# set the alignment of the text\n",
    "for p in ax.patches:\n",
    "    x=p.get_bbox().get_points()[:,0]\n",
    "    y=p.get_bbox().get_points()[1,1]\n",
    "    ax.annotate('{:.1f}%'.format(100.*y/tsum), (x.mean(), y), \n",
    "            ha='center', va='bottom') \n",
    "    \n",
    "# Use a LinearLocator to ensure the correct number of ticks\n",
    "ax.yaxis.set_major_locator(ticker.LinearLocator(10))"
   ]
  },
  {
   "cell_type": "markdown",
   "metadata": {},
   "source": [
    "__Mobile Likes Received is 58.8% of Total Likes Received__\n",
    "- __Mobile Likes Received__ by __Male is 16.9% of Total Likes Received__ \n",
    "- __Mobile Likes Received__ by __Female is 41.9% of Total Like Received__"
   ]
  },
  {
   "cell_type": "markdown",
   "metadata": {},
   "source": [
    "### 5.7 Total Web Likes Received distribution for each age group in facebook data"
   ]
  },
  {
   "cell_type": "code",
   "execution_count": 42,
   "metadata": {},
   "outputs": [
    {
     "data": {
      "image/png": "[encoded data removed]",
      "text/plain": [
       "<Figure size 864x576 with 1 Axes>"
      ]
     },
     "metadata": {
      "needs_background": "light"
     },
     "output_type": "display_data"
    }
   ],
   "source": [
    "plt.figure(figsize=(12,8))\n",
    "\n",
    "tsum = fb_total_likes['likes_received'].sum()\n",
    "ax = sns.barplot(x='age_group', y='www_likes_received', hue='gender', data=fb_total_likes)\n",
    "\n",
    "plt.title('Total Web Likes Received distribution for each age group in facebook data')\n",
    "plt.xlabel('Age Groups(Years)')\n",
    "plt.ylabel('Web Likes Received')\n",
    "\n",
    "# set the alignment of the text\n",
    "for p in ax.patches:\n",
    "    x=p.get_bbox().get_points()[:,0]\n",
    "    y=p.get_bbox().get_points()[1,1]\n",
    "    ax.annotate('{:.1f}%'.format(100.*y/tsum), (x.mean(), y), \n",
    "            ha='center', va='bottom') \n",
    "    \n",
    "# Use a LinearLocator to ensure the correct number of ticks\n",
    "ax.yaxis.set_major_locator(ticker.LinearLocator(10))"
   ]
  },
  {
   "cell_type": "markdown",
   "metadata": {},
   "source": [
    "__Web Likes Received is 40.9% of Total Likes Received__\n",
    "- __Web Likes Received__ by __Male is 11.1% of Total Likes Received__ \n",
    "- __Web Likes Received__ by __Female is 29.8% of Total Like Received__"
   ]
  },
  {
   "cell_type": "markdown",
   "metadata": {},
   "source": [
    "### 5.8 Total Friend Count distribution for each age group in facebook data"
   ]
  },
  {
   "cell_type": "code",
   "execution_count": 43,
   "metadata": {},
   "outputs": [
    {
     "data": {
      "image/png": "[encoded data removed]",
      "text/plain": [
       "<Figure size 864x576 with 1 Axes>"
      ]
     },
     "metadata": {
      "needs_background": "light"
     },
     "output_type": "display_data"
    }
   ],
   "source": [
    "plt.figure(figsize=(12,8))\n",
    "\n",
    "tsum = fb_total_likes['friend_count'].sum()\n",
    "ax = sns.barplot(x='age_group', y='friend_count', hue='gender', data=fb_total_likes)\n",
    "\n",
    "plt.title('Total Friend Count distribution for each age group in facebook data')\n",
    "plt.xlabel('Age Groups(Years)')\n",
    "plt.ylabel('Friends Count')\n",
    "\n",
    "# set the alignment of the text\n",
    "for p in ax.patches:\n",
    "    x=p.get_bbox().get_points()[:,0]\n",
    "    y=p.get_bbox().get_points()[1,1]\n",
    "    ax.annotate('{:.1f}%'.format(100.*y/tsum), (x.mean(), y), \n",
    "            ha='center', va='bottom') \n",
    "    \n",
    "# Use a LinearLocator to ensure the correct number of ticks\n",
    "ax.yaxis.set_major_locator(ticker.LinearLocator(10))"
   ]
  },
  {
   "cell_type": "code",
   "execution_count": 45,
   "metadata": {},
   "outputs": [
    {
     "data": {
      "image/png": "[encoded data removed]",
      "text/plain": [
       "<Figure size 720x432 with 1 Axes>"
      ]
     },
     "metadata": {},
     "output_type": "display_data"
    }
   ],
   "source": [
    "plt.figure(figsize=(10,6))\n",
    "fb_temp.friend_count.plot.pie(explode=[0,0.1],autopct='%1.1f%%',shadow=False)\n",
    "plt.ylabel('')\n",
    "plt.title('Friend Count Distribution')\n",
    "plt.tight_layout()"
   ]
  },
  {
   "cell_type": "markdown",
   "metadata": {},
   "source": [
    " - __Friend count of Female : 50.2%__\n",
    " - __Friend count of Male : 49.8%__\n",
    " \n",
    " Here we can see that, though __number of Male__ are more in the dataset, still __Female have more Friend Count__"
   ]
  },
  {
   "cell_type": "markdown",
   "metadata": {},
   "source": [
    "### 5.9 Total Friendship Initiated distribution for each age group in facebook data"
   ]
  },
  {
   "cell_type": "code",
   "execution_count": 46,
   "metadata": {},
   "outputs": [
    {
     "data": {
      "image/png": "[encoded data removed]",
      "text/plain": [
       "<Figure size 864x576 with 1 Axes>"
      ]
     },
     "metadata": {
      "needs_background": "light"
     },
     "output_type": "display_data"
    }
   ],
   "source": [
    "plt.figure(figsize=(12,8))\n",
    "\n",
    "tsum = fb_total_likes['friendships_initiated'].sum()\n",
    "ax = sns.barplot(x='age_group', y='friendships_initiated', hue='gender', data=fb_total_likes)\n",
    "\n",
    "plt.title('Total Friendship Initiated distribution for each age group in facebook data')\n",
    "plt.xlabel('Age Groups(Years)')\n",
    "plt.ylabel('Friendships Initiated')\n",
    "\n",
    "# set the alignment of the text\n",
    "for p in ax.patches:\n",
    "    x=p.get_bbox().get_points()[:,0]\n",
    "    y=p.get_bbox().get_points()[1,1]\n",
    "    ax.annotate('{:.1f}%'.format(100.*y/tsum), (x.mean(), y), \n",
    "            ha='center', va='bottom') \n",
    "    \n",
    "# Use a LinearLocator to ensure the correct number of ticks\n",
    "ax.yaxis.set_major_locator(ticker.LinearLocator(10))"
   ]
  },
  {
   "cell_type": "code",
   "execution_count": 47,
   "metadata": {},
   "outputs": [
    {
     "data": {
      "image/png": "[encoded data removed]",
      "text/plain": [
       "<Figure size 720x432 with 1 Axes>"
      ]
     },
     "metadata": {},
     "output_type": "display_data"
    }
   ],
   "source": [
    "plt.figure(figsize=(10,6))\n",
    "fb_temp.friendships_initiated.plot.pie(explode=[0,0.1],autopct='%1.1f%%',shadow=False)\n",
    "plt.ylabel('')\n",
    "plt.title('Friendship Initiated Distribution')\n",
    "plt.tight_layout()"
   ]
  },
  {
   "cell_type": "markdown",
   "metadata": {},
   "source": [
    "- __Friend Request Sent__ by __Male : 56.8%__\n",
    "- __Friend Request Sent__ by __Female : 43.2%__\n",
    "\n",
    " Here we can see that __Male__ sends more __Friend Request__ than __Female__"
   ]
  },
  {
   "cell_type": "markdown",
   "metadata": {},
   "source": [
    " "
   ]
  },
  {
   "cell_type": "markdown",
   "metadata": {},
   "source": [
    "## 6. Extreme values"
   ]
  },
  {
   "cell_type": "markdown",
   "metadata": {},
   "source": [
    "Now we will look into the __five maximum values__ of each numerical data column and analize how the __remaining data is varying__"
   ]
  },
  {
   "cell_type": "markdown",
   "metadata": {},
   "source": [
    " "
   ]
  },
  {
   "cell_type": "markdown",
   "metadata": {},
   "source": [
    "### 6.1 Extreme values of column \"likes\""
   ]
  },
  {
   "cell_type": "code",
   "execution_count": 41,
   "metadata": {},
   "outputs": [
    {
     "data": {
      "text/html": [
       "<div>\n",
       "<style scoped>\n",
       "    .dataframe tbody tr th:only-of-type {\n",
       "        vertical-align: middle;\n",
       "    }\n",
       "\n",
       "    .dataframe tbody tr th {\n",
       "        vertical-align: top;\n",
       "    }\n",
       "\n",
       "    .dataframe thead th {\n",
       "        text-align: right;\n",
       "    }\n",
       "</style>\n",
       "<table border=\"1\" class=\"dataframe\">\n",
       "  <thead>\n",
       "    <tr style=\"text-align: right;\">\n",
       "      <th></th>\n",
       "      <th>userid</th>\n",
       "      <th>age</th>\n",
       "      <th>dob_year</th>\n",
       "      <th>gender</th>\n",
       "      <th>tenure</th>\n",
       "      <th>friend_count</th>\n",
       "      <th>friendships_initiated</th>\n",
       "      <th>likes</th>\n",
       "      <th>likes_received</th>\n",
       "      <th>mobile_likes</th>\n",
       "      <th>mobile_likes_received</th>\n",
       "      <th>www_likes</th>\n",
       "      <th>www_likes_received</th>\n",
       "      <th>age_group</th>\n",
       "    </tr>\n",
       "  </thead>\n",
       "  <tbody>\n",
       "    <tr>\n",
       "      <th>97007</th>\n",
       "      <td>1684195</td>\n",
       "      <td>23</td>\n",
       "      <td>1990</td>\n",
       "      <td>male</td>\n",
       "      <td>529</td>\n",
       "      <td>1056</td>\n",
       "      <td>665</td>\n",
       "      <td>25111</td>\n",
       "      <td>3447</td>\n",
       "      <td>25111</td>\n",
       "      <td>3111</td>\n",
       "      <td>0</td>\n",
       "      <td>336</td>\n",
       "      <td>21-30</td>\n",
       "    </tr>\n",
       "    <tr>\n",
       "      <th>93064</th>\n",
       "      <td>1656477</td>\n",
       "      <td>68</td>\n",
       "      <td>1945</td>\n",
       "      <td>male</td>\n",
       "      <td>550</td>\n",
       "      <td>584</td>\n",
       "      <td>347</td>\n",
       "      <td>21652</td>\n",
       "      <td>10220</td>\n",
       "      <td>21652</td>\n",
       "      <td>8584</td>\n",
       "      <td>0</td>\n",
       "      <td>1636</td>\n",
       "      <td>&gt;66</td>\n",
       "    </tr>\n",
       "    <tr>\n",
       "      <th>86119</th>\n",
       "      <td>1489463</td>\n",
       "      <td>25</td>\n",
       "      <td>1988</td>\n",
       "      <td>female</td>\n",
       "      <td>131</td>\n",
       "      <td>351</td>\n",
       "      <td>88</td>\n",
       "      <td>16732</td>\n",
       "      <td>4913</td>\n",
       "      <td>16732</td>\n",
       "      <td>4679</td>\n",
       "      <td>0</td>\n",
       "      <td>234</td>\n",
       "      <td>21-30</td>\n",
       "    </tr>\n",
       "    <tr>\n",
       "      <th>98929</th>\n",
       "      <td>1429178</td>\n",
       "      <td>18</td>\n",
       "      <td>1995</td>\n",
       "      <td>female</td>\n",
       "      <td>888</td>\n",
       "      <td>4733</td>\n",
       "      <td>519</td>\n",
       "      <td>16583</td>\n",
       "      <td>16743</td>\n",
       "      <td>1718</td>\n",
       "      <td>10104</td>\n",
       "      <td>14865</td>\n",
       "      <td>6639</td>\n",
       "      <td>16-20</td>\n",
       "    </tr>\n",
       "    <tr>\n",
       "      <th>96999</th>\n",
       "      <td>1267229</td>\n",
       "      <td>24</td>\n",
       "      <td>1989</td>\n",
       "      <td>female</td>\n",
       "      <td>484</td>\n",
       "      <td>1171</td>\n",
       "      <td>695</td>\n",
       "      <td>14799</td>\n",
       "      <td>22513</td>\n",
       "      <td>12934</td>\n",
       "      <td>17955</td>\n",
       "      <td>1865</td>\n",
       "      <td>4558</td>\n",
       "      <td>21-30</td>\n",
       "    </tr>\n",
       "  </tbody>\n",
       "</table>\n",
       "</div>"
      ],
      "text/plain": [
       "        userid  age  dob_year  gender  tenure  friend_count  \\\n",
       "97007  1684195   23      1990    male     529          1056   \n",
       "93064  1656477   68      1945    male     550           584   \n",
       "86119  1489463   25      1988  female     131           351   \n",
       "98929  1429178   18      1995  female     888          4733   \n",
       "96999  1267229   24      1989  female     484          1171   \n",
       "\n",
       "       friendships_initiated  likes  likes_received  mobile_likes  \\\n",
       "97007                    665  25111            3447         25111   \n",
       "93064                    347  21652           10220         21652   \n",
       "86119                     88  16732            4913         16732   \n",
       "98929                    519  16583           16743          1718   \n",
       "96999                    695  14799           22513         12934   \n",
       "\n",
       "       mobile_likes_received  www_likes  www_likes_received age_group  \n",
       "97007                   3111          0                 336     21-30  \n",
       "93064                   8584          0                1636       >66  \n",
       "86119                   4679          0                 234     21-30  \n",
       "98929                  10104      14865                6639     16-20  \n",
       "96999                  17955       1865                4558     21-30  "
      ]
     },
     "execution_count": 41,
     "metadata": {},
     "output_type": "execute_result"
    }
   ],
   "source": [
    "fb_sort_likes = fb_data.sort_values(by='likes', ascending=False)\n",
    "fb_sort_likes.head()"
   ]
  },
  {
   "cell_type": "markdown",
   "metadata": {},
   "source": [
    " "
   ]
  },
  {
   "cell_type": "markdown",
   "metadata": {},
   "source": [
    "### 6.2 Extreme values of column \"likes_received\""
   ]
  },
  {
   "cell_type": "code",
   "execution_count": 42,
   "metadata": {},
   "outputs": [
    {
     "data": {
      "text/html": [
       "<div>\n",
       "<style scoped>\n",
       "    .dataframe tbody tr th:only-of-type {\n",
       "        vertical-align: middle;\n",
       "    }\n",
       "\n",
       "    .dataframe tbody tr th {\n",
       "        vertical-align: top;\n",
       "    }\n",
       "\n",
       "    .dataframe thead th {\n",
       "        text-align: right;\n",
       "    }\n",
       "</style>\n",
       "<table border=\"1\" class=\"dataframe\">\n",
       "  <thead>\n",
       "    <tr style=\"text-align: right;\">\n",
       "      <th></th>\n",
       "      <th>userid</th>\n",
       "      <th>age</th>\n",
       "      <th>dob_year</th>\n",
       "      <th>gender</th>\n",
       "      <th>tenure</th>\n",
       "      <th>friend_count</th>\n",
       "      <th>friendships_initiated</th>\n",
       "      <th>likes</th>\n",
       "      <th>likes_received</th>\n",
       "      <th>mobile_likes</th>\n",
       "      <th>mobile_likes_received</th>\n",
       "      <th>www_likes</th>\n",
       "      <th>www_likes_received</th>\n",
       "      <th>age_group</th>\n",
       "    </tr>\n",
       "  </thead>\n",
       "  <tbody>\n",
       "    <tr>\n",
       "      <th>94906</th>\n",
       "      <td>1674584</td>\n",
       "      <td>17</td>\n",
       "      <td>1996</td>\n",
       "      <td>female</td>\n",
       "      <td>401</td>\n",
       "      <td>818</td>\n",
       "      <td>395</td>\n",
       "      <td>1016</td>\n",
       "      <td>261197</td>\n",
       "      <td>659</td>\n",
       "      <td>131244</td>\n",
       "      <td>357</td>\n",
       "      <td>129953</td>\n",
       "      <td>16-20</td>\n",
       "    </tr>\n",
       "    <tr>\n",
       "      <th>77121</th>\n",
       "      <td>1441676</td>\n",
       "      <td>20</td>\n",
       "      <td>1993</td>\n",
       "      <td>female</td>\n",
       "      <td>253</td>\n",
       "      <td>230</td>\n",
       "      <td>73</td>\n",
       "      <td>2078</td>\n",
       "      <td>178166</td>\n",
       "      <td>1982</td>\n",
       "      <td>138561</td>\n",
       "      <td>96</td>\n",
       "      <td>39605</td>\n",
       "      <td>16-20</td>\n",
       "    </tr>\n",
       "    <tr>\n",
       "      <th>98822</th>\n",
       "      <td>1715925</td>\n",
       "      <td>23</td>\n",
       "      <td>1990</td>\n",
       "      <td>female</td>\n",
       "      <td>705</td>\n",
       "      <td>4077</td>\n",
       "      <td>793</td>\n",
       "      <td>1877</td>\n",
       "      <td>152014</td>\n",
       "      <td>80</td>\n",
       "      <td>89911</td>\n",
       "      <td>1797</td>\n",
       "      <td>62103</td>\n",
       "      <td>21-30</td>\n",
       "    </tr>\n",
       "    <tr>\n",
       "      <th>98994</th>\n",
       "      <td>2063006</td>\n",
       "      <td>20</td>\n",
       "      <td>1993</td>\n",
       "      <td>female</td>\n",
       "      <td>402</td>\n",
       "      <td>1988</td>\n",
       "      <td>332</td>\n",
       "      <td>7351</td>\n",
       "      <td>106025</td>\n",
       "      <td>7248</td>\n",
       "      <td>73333</td>\n",
       "      <td>103</td>\n",
       "      <td>32692</td>\n",
       "      <td>16-20</td>\n",
       "    </tr>\n",
       "    <tr>\n",
       "      <th>98878</th>\n",
       "      <td>1053087</td>\n",
       "      <td>23</td>\n",
       "      <td>1990</td>\n",
       "      <td>male</td>\n",
       "      <td>596</td>\n",
       "      <td>4320</td>\n",
       "      <td>836</td>\n",
       "      <td>2996</td>\n",
       "      <td>82623</td>\n",
       "      <td>179</td>\n",
       "      <td>43410</td>\n",
       "      <td>2817</td>\n",
       "      <td>39213</td>\n",
       "      <td>21-30</td>\n",
       "    </tr>\n",
       "  </tbody>\n",
       "</table>\n",
       "</div>"
      ],
      "text/plain": [
       "        userid  age  dob_year  gender  tenure  friend_count  \\\n",
       "94906  1674584   17      1996  female     401           818   \n",
       "77121  1441676   20      1993  female     253           230   \n",
       "98822  1715925   23      1990  female     705          4077   \n",
       "98994  2063006   20      1993  female     402          1988   \n",
       "98878  1053087   23      1990    male     596          4320   \n",
       "\n",
       "       friendships_initiated  likes  likes_received  mobile_likes  \\\n",
       "94906                    395   1016          261197           659   \n",
       "77121                     73   2078          178166          1982   \n",
       "98822                    793   1877          152014            80   \n",
       "98994                    332   7351          106025          7248   \n",
       "98878                    836   2996           82623           179   \n",
       "\n",
       "       mobile_likes_received  www_likes  www_likes_received age_group  \n",
       "94906                 131244        357              129953     16-20  \n",
       "77121                 138561         96               39605     16-20  \n",
       "98822                  89911       1797               62103     21-30  \n",
       "98994                  73333        103               32692     16-20  \n",
       "98878                  43410       2817               39213     21-30  "
      ]
     },
     "execution_count": 42,
     "metadata": {},
     "output_type": "execute_result"
    }
   ],
   "source": [
    "fb_sort_likes_received = fb_data.sort_values(by='likes_received', ascending=False)\n",
    "fb_sort_likes_received.head()"
   ]
  },
  {
   "cell_type": "markdown",
   "metadata": {},
   "source": [
    " "
   ]
  },
  {
   "cell_type": "markdown",
   "metadata": {},
   "source": [
    "### 6.3 Extreme values of column \"friend_count\""
   ]
  },
  {
   "cell_type": "code",
   "execution_count": 43,
   "metadata": {},
   "outputs": [
    {
     "data": {
      "text/html": [
       "<div>\n",
       "<style scoped>\n",
       "    .dataframe tbody tr th:only-of-type {\n",
       "        vertical-align: middle;\n",
       "    }\n",
       "\n",
       "    .dataframe tbody tr th {\n",
       "        vertical-align: top;\n",
       "    }\n",
       "\n",
       "    .dataframe thead th {\n",
       "        text-align: right;\n",
       "    }\n",
       "</style>\n",
       "<table border=\"1\" class=\"dataframe\">\n",
       "  <thead>\n",
       "    <tr style=\"text-align: right;\">\n",
       "      <th></th>\n",
       "      <th>userid</th>\n",
       "      <th>age</th>\n",
       "      <th>dob_year</th>\n",
       "      <th>gender</th>\n",
       "      <th>tenure</th>\n",
       "      <th>friend_count</th>\n",
       "      <th>friendships_initiated</th>\n",
       "      <th>likes</th>\n",
       "      <th>likes_received</th>\n",
       "      <th>mobile_likes</th>\n",
       "      <th>mobile_likes_received</th>\n",
       "      <th>www_likes</th>\n",
       "      <th>www_likes_received</th>\n",
       "      <th>age_group</th>\n",
       "    </tr>\n",
       "  </thead>\n",
       "  <tbody>\n",
       "    <tr>\n",
       "      <th>98159</th>\n",
       "      <td>2090699</td>\n",
       "      <td>103</td>\n",
       "      <td>1910</td>\n",
       "      <td>female</td>\n",
       "      <td>783</td>\n",
       "      <td>4923</td>\n",
       "      <td>96</td>\n",
       "      <td>26</td>\n",
       "      <td>80</td>\n",
       "      <td>26</td>\n",
       "      <td>71</td>\n",
       "      <td>0</td>\n",
       "      <td>9</td>\n",
       "      <td>&gt;66</td>\n",
       "    </tr>\n",
       "    <tr>\n",
       "      <th>98026</th>\n",
       "      <td>1660276</td>\n",
       "      <td>66</td>\n",
       "      <td>1947</td>\n",
       "      <td>male</td>\n",
       "      <td>716</td>\n",
       "      <td>4917</td>\n",
       "      <td>431</td>\n",
       "      <td>0</td>\n",
       "      <td>114</td>\n",
       "      <td>0</td>\n",
       "      <td>69</td>\n",
       "      <td>0</td>\n",
       "      <td>45</td>\n",
       "      <td>&gt;66</td>\n",
       "    </tr>\n",
       "    <tr>\n",
       "      <th>98184</th>\n",
       "      <td>1926655</td>\n",
       "      <td>19</td>\n",
       "      <td>1994</td>\n",
       "      <td>female</td>\n",
       "      <td>469</td>\n",
       "      <td>4863</td>\n",
       "      <td>241</td>\n",
       "      <td>37</td>\n",
       "      <td>166</td>\n",
       "      <td>36</td>\n",
       "      <td>117</td>\n",
       "      <td>1</td>\n",
       "      <td>49</td>\n",
       "      <td>16-20</td>\n",
       "    </tr>\n",
       "    <tr>\n",
       "      <th>98797</th>\n",
       "      <td>1685573</td>\n",
       "      <td>38</td>\n",
       "      <td>1975</td>\n",
       "      <td>male</td>\n",
       "      <td>1930</td>\n",
       "      <td>4845</td>\n",
       "      <td>942</td>\n",
       "      <td>1768</td>\n",
       "      <td>4886</td>\n",
       "      <td>1208</td>\n",
       "      <td>1619</td>\n",
       "      <td>560</td>\n",
       "      <td>3267</td>\n",
       "      <td>31-45</td>\n",
       "    </tr>\n",
       "    <tr>\n",
       "      <th>98087</th>\n",
       "      <td>1386477</td>\n",
       "      <td>61</td>\n",
       "      <td>1952</td>\n",
       "      <td>male</td>\n",
       "      <td>1210</td>\n",
       "      <td>4844</td>\n",
       "      <td>561</td>\n",
       "      <td>7</td>\n",
       "      <td>247</td>\n",
       "      <td>5</td>\n",
       "      <td>96</td>\n",
       "      <td>2</td>\n",
       "      <td>151</td>\n",
       "      <td>46-65</td>\n",
       "    </tr>\n",
       "  </tbody>\n",
       "</table>\n",
       "</div>"
      ],
      "text/plain": [
       "        userid  age  dob_year  gender  tenure  friend_count  \\\n",
       "98159  2090699  103      1910  female     783          4923   \n",
       "98026  1660276   66      1947    male     716          4917   \n",
       "98184  1926655   19      1994  female     469          4863   \n",
       "98797  1685573   38      1975    male    1930          4845   \n",
       "98087  1386477   61      1952    male    1210          4844   \n",
       "\n",
       "       friendships_initiated  likes  likes_received  mobile_likes  \\\n",
       "98159                     96     26              80            26   \n",
       "98026                    431      0             114             0   \n",
       "98184                    241     37             166            36   \n",
       "98797                    942   1768            4886          1208   \n",
       "98087                    561      7             247             5   \n",
       "\n",
       "       mobile_likes_received  www_likes  www_likes_received age_group  \n",
       "98159                     71          0                   9       >66  \n",
       "98026                     69          0                  45       >66  \n",
       "98184                    117          1                  49     16-20  \n",
       "98797                   1619        560                3267     31-45  \n",
       "98087                     96          2                 151     46-65  "
      ]
     },
     "execution_count": 43,
     "metadata": {},
     "output_type": "execute_result"
    }
   ],
   "source": [
    "fb_sort_friend = fb_data.sort_values(by='friend_count', ascending=False)\n",
    "fb_sort_friend.head()"
   ]
  },
  {
   "cell_type": "markdown",
   "metadata": {},
   "source": [
    " "
   ]
  },
  {
   "cell_type": "markdown",
   "metadata": {},
   "source": [
    "### 6.4 Extreme values of column \"friendships_initiated\""
   ]
  },
  {
   "cell_type": "code",
   "execution_count": 44,
   "metadata": {},
   "outputs": [
    {
     "data": {
      "text/html": [
       "<div>\n",
       "<style scoped>\n",
       "    .dataframe tbody tr th:only-of-type {\n",
       "        vertical-align: middle;\n",
       "    }\n",
       "\n",
       "    .dataframe tbody tr th {\n",
       "        vertical-align: top;\n",
       "    }\n",
       "\n",
       "    .dataframe thead th {\n",
       "        text-align: right;\n",
       "    }\n",
       "</style>\n",
       "<table border=\"1\" class=\"dataframe\">\n",
       "  <thead>\n",
       "    <tr style=\"text-align: right;\">\n",
       "      <th></th>\n",
       "      <th>userid</th>\n",
       "      <th>age</th>\n",
       "      <th>dob_year</th>\n",
       "      <th>gender</th>\n",
       "      <th>tenure</th>\n",
       "      <th>friend_count</th>\n",
       "      <th>friendships_initiated</th>\n",
       "      <th>likes</th>\n",
       "      <th>likes_received</th>\n",
       "      <th>mobile_likes</th>\n",
       "      <th>mobile_likes_received</th>\n",
       "      <th>www_likes</th>\n",
       "      <th>www_likes_received</th>\n",
       "      <th>age_group</th>\n",
       "    </tr>\n",
       "  </thead>\n",
       "  <tbody>\n",
       "    <tr>\n",
       "      <th>98993</th>\n",
       "      <td>1654565</td>\n",
       "      <td>19</td>\n",
       "      <td>1994</td>\n",
       "      <td>male</td>\n",
       "      <td>394</td>\n",
       "      <td>4538</td>\n",
       "      <td>4144</td>\n",
       "      <td>4501</td>\n",
       "      <td>15088</td>\n",
       "      <td>4435</td>\n",
       "      <td>5961</td>\n",
       "      <td>66</td>\n",
       "      <td>9127</td>\n",
       "      <td>16-20</td>\n",
       "    </tr>\n",
       "    <tr>\n",
       "      <th>98842</th>\n",
       "      <td>1052695</td>\n",
       "      <td>22</td>\n",
       "      <td>1991</td>\n",
       "      <td>female</td>\n",
       "      <td>874</td>\n",
       "      <td>4297</td>\n",
       "      <td>3654</td>\n",
       "      <td>1968</td>\n",
       "      <td>2006</td>\n",
       "      <td>1825</td>\n",
       "      <td>1632</td>\n",
       "      <td>143</td>\n",
       "      <td>374</td>\n",
       "      <td>21-30</td>\n",
       "    </tr>\n",
       "    <tr>\n",
       "      <th>98675</th>\n",
       "      <td>1949247</td>\n",
       "      <td>19</td>\n",
       "      <td>1994</td>\n",
       "      <td>female</td>\n",
       "      <td>434</td>\n",
       "      <td>4189</td>\n",
       "      <td>3594</td>\n",
       "      <td>927</td>\n",
       "      <td>2859</td>\n",
       "      <td>528</td>\n",
       "      <td>1290</td>\n",
       "      <td>399</td>\n",
       "      <td>1569</td>\n",
       "      <td>16-20</td>\n",
       "    </tr>\n",
       "    <tr>\n",
       "      <th>98567</th>\n",
       "      <td>1205425</td>\n",
       "      <td>60</td>\n",
       "      <td>1953</td>\n",
       "      <td>female</td>\n",
       "      <td>1562</td>\n",
       "      <td>4794</td>\n",
       "      <td>3538</td>\n",
       "      <td>586</td>\n",
       "      <td>1318</td>\n",
       "      <td>560</td>\n",
       "      <td>960</td>\n",
       "      <td>26</td>\n",
       "      <td>358</td>\n",
       "      <td>46-65</td>\n",
       "    </tr>\n",
       "    <tr>\n",
       "      <th>98347</th>\n",
       "      <td>1403953</td>\n",
       "      <td>19</td>\n",
       "      <td>1994</td>\n",
       "      <td>male</td>\n",
       "      <td>519</td>\n",
       "      <td>3693</td>\n",
       "      <td>3415</td>\n",
       "      <td>170</td>\n",
       "      <td>20</td>\n",
       "      <td>170</td>\n",
       "      <td>19</td>\n",
       "      <td>0</td>\n",
       "      <td>1</td>\n",
       "      <td>16-20</td>\n",
       "    </tr>\n",
       "  </tbody>\n",
       "</table>\n",
       "</div>"
      ],
      "text/plain": [
       "        userid  age  dob_year  gender  tenure  friend_count  \\\n",
       "98993  1654565   19      1994    male     394          4538   \n",
       "98842  1052695   22      1991  female     874          4297   \n",
       "98675  1949247   19      1994  female     434          4189   \n",
       "98567  1205425   60      1953  female    1562          4794   \n",
       "98347  1403953   19      1994    male     519          3693   \n",
       "\n",
       "       friendships_initiated  likes  likes_received  mobile_likes  \\\n",
       "98993                   4144   4501           15088          4435   \n",
       "98842                   3654   1968            2006          1825   \n",
       "98675                   3594    927            2859           528   \n",
       "98567                   3538    586            1318           560   \n",
       "98347                   3415    170              20           170   \n",
       "\n",
       "       mobile_likes_received  www_likes  www_likes_received age_group  \n",
       "98993                   5961         66                9127     16-20  \n",
       "98842                   1632        143                 374     21-30  \n",
       "98675                   1290        399                1569     16-20  \n",
       "98567                    960         26                 358     46-65  \n",
       "98347                     19          0                   1     16-20  "
      ]
     },
     "execution_count": 44,
     "metadata": {},
     "output_type": "execute_result"
    }
   ],
   "source": [
    "fb_sort_frnd_in = fb_data.sort_values(by='friendships_initiated', ascending=False)\n",
    "fb_sort_frnd_in.head()"
   ]
  },
  {
   "cell_type": "markdown",
   "metadata": {},
   "source": [
    " "
   ]
  },
  {
   "cell_type": "markdown",
   "metadata": {},
   "source": [
    "### 6.5 Extreme values of column \"tenure\""
   ]
  },
  {
   "cell_type": "code",
   "execution_count": 45,
   "metadata": {},
   "outputs": [
    {
     "data": {
      "text/html": [
       "<div>\n",
       "<style scoped>\n",
       "    .dataframe tbody tr th:only-of-type {\n",
       "        vertical-align: middle;\n",
       "    }\n",
       "\n",
       "    .dataframe tbody tr th {\n",
       "        vertical-align: top;\n",
       "    }\n",
       "\n",
       "    .dataframe thead th {\n",
       "        text-align: right;\n",
       "    }\n",
       "</style>\n",
       "<table border=\"1\" class=\"dataframe\">\n",
       "  <thead>\n",
       "    <tr style=\"text-align: right;\">\n",
       "      <th></th>\n",
       "      <th>userid</th>\n",
       "      <th>age</th>\n",
       "      <th>dob_year</th>\n",
       "      <th>gender</th>\n",
       "      <th>tenure</th>\n",
       "      <th>friend_count</th>\n",
       "      <th>friendships_initiated</th>\n",
       "      <th>likes</th>\n",
       "      <th>likes_received</th>\n",
       "      <th>mobile_likes</th>\n",
       "      <th>mobile_likes_received</th>\n",
       "      <th>www_likes</th>\n",
       "      <th>www_likes_received</th>\n",
       "      <th>age_group</th>\n",
       "    </tr>\n",
       "  </thead>\n",
       "  <tbody>\n",
       "    <tr>\n",
       "      <th>86383</th>\n",
       "      <td>1419799</td>\n",
       "      <td>111</td>\n",
       "      <td>1902</td>\n",
       "      <td>male</td>\n",
       "      <td>3139</td>\n",
       "      <td>372</td>\n",
       "      <td>40</td>\n",
       "      <td>11</td>\n",
       "      <td>21</td>\n",
       "      <td>2</td>\n",
       "      <td>13</td>\n",
       "      <td>9</td>\n",
       "      <td>8</td>\n",
       "      <td>&gt;66</td>\n",
       "    </tr>\n",
       "    <tr>\n",
       "      <th>96429</th>\n",
       "      <td>1601778</td>\n",
       "      <td>100</td>\n",
       "      <td>1913</td>\n",
       "      <td>male</td>\n",
       "      <td>3139</td>\n",
       "      <td>1069</td>\n",
       "      <td>373</td>\n",
       "      <td>137</td>\n",
       "      <td>63</td>\n",
       "      <td>45</td>\n",
       "      <td>35</td>\n",
       "      <td>92</td>\n",
       "      <td>28</td>\n",
       "      <td>&gt;66</td>\n",
       "    </tr>\n",
       "    <tr>\n",
       "      <th>97177</th>\n",
       "      <td>2135122</td>\n",
       "      <td>108</td>\n",
       "      <td>1905</td>\n",
       "      <td>male</td>\n",
       "      <td>3139</td>\n",
       "      <td>1343</td>\n",
       "      <td>167</td>\n",
       "      <td>18</td>\n",
       "      <td>14</td>\n",
       "      <td>0</td>\n",
       "      <td>12</td>\n",
       "      <td>18</td>\n",
       "      <td>2</td>\n",
       "      <td>&gt;66</td>\n",
       "    </tr>\n",
       "    <tr>\n",
       "      <th>93775</th>\n",
       "      <td>2137369</td>\n",
       "      <td>108</td>\n",
       "      <td>1905</td>\n",
       "      <td>female</td>\n",
       "      <td>3129</td>\n",
       "      <td>720</td>\n",
       "      <td>282</td>\n",
       "      <td>421</td>\n",
       "      <td>439</td>\n",
       "      <td>176</td>\n",
       "      <td>296</td>\n",
       "      <td>245</td>\n",
       "      <td>143</td>\n",
       "      <td>&gt;66</td>\n",
       "    </tr>\n",
       "    <tr>\n",
       "      <th>98689</th>\n",
       "      <td>2111567</td>\n",
       "      <td>103</td>\n",
       "      <td>1910</td>\n",
       "      <td>female</td>\n",
       "      <td>3128</td>\n",
       "      <td>4658</td>\n",
       "      <td>972</td>\n",
       "      <td>929</td>\n",
       "      <td>2756</td>\n",
       "      <td>929</td>\n",
       "      <td>1193</td>\n",
       "      <td>0</td>\n",
       "      <td>1563</td>\n",
       "      <td>&gt;66</td>\n",
       "    </tr>\n",
       "  </tbody>\n",
       "</table>\n",
       "</div>"
      ],
      "text/plain": [
       "        userid  age  dob_year  gender  tenure  friend_count  \\\n",
       "86383  1419799  111      1902    male    3139           372   \n",
       "96429  1601778  100      1913    male    3139          1069   \n",
       "97177  2135122  108      1905    male    3139          1343   \n",
       "93775  2137369  108      1905  female    3129           720   \n",
       "98689  2111567  103      1910  female    3128          4658   \n",
       "\n",
       "       friendships_initiated  likes  likes_received  mobile_likes  \\\n",
       "86383                     40     11              21             2   \n",
       "96429                    373    137              63            45   \n",
       "97177                    167     18              14             0   \n",
       "93775                    282    421             439           176   \n",
       "98689                    972    929            2756           929   \n",
       "\n",
       "       mobile_likes_received  www_likes  www_likes_received age_group  \n",
       "86383                     13          9                   8       >66  \n",
       "96429                     35         92                  28       >66  \n",
       "97177                     12         18                   2       >66  \n",
       "93775                    296        245                 143       >66  \n",
       "98689                   1193          0                1563       >66  "
      ]
     },
     "execution_count": 45,
     "metadata": {},
     "output_type": "execute_result"
    }
   ],
   "source": [
    "fb_sort_tenure = fb_data.sort_values(by='tenure', ascending=False)\n",
    "fb_sort_tenure.head()"
   ]
  },
  {
   "cell_type": "markdown",
   "metadata": {},
   "source": [
    " "
   ]
  },
  {
   "cell_type": "markdown",
   "metadata": {},
   "source": [
    "## 7. Observation"
   ]
  },
  {
   "cell_type": "markdown",
   "metadata": {},
   "source": [
    " "
   ]
  },
  {
   "cell_type": "markdown",
   "metadata": {},
   "source": [
    "- Facebook dataset contains 59.3% Male and 40.7% Female data\n",
    "\n",
    "- The age group 21-30 years has maximum number of users followed by 16-20 years\n",
    "\n",
    "- Male users are more active in almost all group as per the dataset except the age group 46-65 years, in which more Female data is present\n",
    "\n",
    "- The dataset contains more entries with Tenure between 100-600 days\n",
    "\n",
    "- We have seen various correlation between data\n",
    "\n",
    "- The total likes given by Female is 67.9% whereas only 32.1% by Male\n",
    "\n",
    "- Specially Female of age group 16-20(18.6%) and 46-65(14.3%) years have liked more\n",
    "\n",
    "- Out of all likes, mobile app likes are 67.9% and web likes are only 32.1%\n",
    "\n",
    "- The total likes received by Female is 71.8% whereas Male have received only 28.2%\n",
    "\n",
    "- Here we can see that, though number of Male are more in the dataset, still Female received more likes\n",
    "\n",
    "- The Female of age group 16-20 years have received maximum numbers of likes 27.5%, followed by 16.2% by age group 21-30 years\n",
    "\n",
    "- Out of all, received likes by mobile app are 58.8% and by web 40.9%\n",
    "\n",
    "- Though number of Male are more in the dataset, still Female have more Friend Count 50.2%\n",
    "\n",
    "- The Female of age group 16-20 years have maximum friend counts 18.5%\n",
    "\n",
    "- Male have sent more friend request than Female, i.e. Male 56.8% and Female 43.2%\n",
    "\n",
    "- The Male of age group 16-20 years and 21-30 years have sent more friend request with 17.9% and 17.5% respectively"
   ]
  },
  {
   "cell_type": "markdown",
   "metadata": {},
   "source": [
    " "
   ]
  },
  {
   "cell_type": "markdown",
   "metadata": {},
   "source": [
    " "
   ]
  },
  {
   "cell_type": "markdown",
   "metadata": {},
   "source": [
    "## 8. Conclusion"
   ]
  },
  {
   "cell_type": "markdown",
   "metadata": {},
   "source": [
    " "
   ]
  },
  {
   "cell_type": "markdown",
   "metadata": {},
   "source": [
    "Female are more active on facebook as compared to Male\n",
    "- So Facebook will prefer to create a different database for Female users\n",
    "- Also Female uploads more pictures and videos on facebook so it require a huge database\n",
    "- Whereas Male database can be of little less size\n",
    "\n",
    "Maximum users prefer to use Facebook Mobile app rather than Web application\n",
    "- So Facebook will allocate more resources and manpower to manage and monitor Mobile application rather than Web application\n",
    "- Facebook can deploy extra features to their Mobile app first, as more users are active through Mobile app"
   ]
  },
  {
   "cell_type": "markdown",
   "metadata": {},
   "source": [
    " "
   ]
  },
  {
   "cell_type": "markdown",
   "metadata": {},
   "source": [
    " "
   ]
  },
  {
   "cell_type": "markdown",
   "metadata": {},
   "source": [
    " "
   ]
  }
 ],
 "metadata": {
  "kernelspec": {
   "display_name": "Python 3",
   "language": "python",
   "name": "python3"
  },
  "language_info": {
   "codemirror_mode": {
    "name": "ipython",
    "version": 3
   },
   "file_extension": ".py",
   "mimetype": "text/x-python",
   "name": "python",
   "nbconvert_exporter": "python",
   "pygments_lexer": "ipython3",
   "version": "3.7.3"
  }
 },
 "nbformat": 4,
 "nbformat_minor": 2
}
